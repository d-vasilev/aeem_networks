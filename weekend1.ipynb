{
 "cells": [
  {
   "cell_type": "code",
   "execution_count": null,
   "metadata": {},
   "outputs": [],
   "source": [
    "import networkx as nx\n",
    "import numpy as np\n",
    "import matplotlib.pyplot as plt\n",
    "import pandas as pd\n",
    "import random\n",
    "import scipy\n",
    "import math"
   ]
  },
  {
   "cell_type": "code",
   "execution_count": null,
   "metadata": {},
   "outputs": [],
   "source": [
    "print(f\"networkx = {nx.__version__}\")\n",
    "print(f\"numpy    = {np.__version__}\")\n",
    "print(f\"pandas   = {pd.__version__}\")\n",
    "print(f\"scipy    = {scipy.__version__}\")"
   ]
  },
  {
   "cell_type": "markdown",
   "metadata": {},
   "source": [
    "# Representing Networks "
   ]
  },
  {
   "cell_type": "markdown",
   "metadata": {},
   "source": [
    "## Python package and documentation\n",
    "We will use ```networkx``` package. Following resources\n",
    "- installation instructions - https://networkx.org/documentation/stable/install.html\n",
    "- quick tutorial - https://networkx.org/documentation/stable/tutorial.html\n",
    "- examples - https://networkx.org/documentation/stable/auto_examples/index.html"
   ]
  },
  {
   "cell_type": "markdown",
   "metadata": {},
   "source": [
    "## Examples\n",
    "* $N={1,…,n}$ nodes, vertices, agents, actors, players, ...\n",
    "* edges, links, ties: connections between nodes\n",
    "    - They may have intensity (weighted)\n",
    "        - How many hours do two people spend together per week?\n",
    "        - How much of one country's GDP is traded with another?\n",
    "    - They may just be 0 or 1 (unweighted)\n",
    "        - Have two researchers written an article together?\n",
    "        - Are two people \"friends\" on some social platform?\n",
    "    - They may be \"undirected\" or \"directed\"\n",
    "        - coauthors, friends,..., relatives, spouses, ...., are mutual relationships\n",
    "        - link from on web page to another, citations, following on social media..., one way"
   ]
  },
  {
   "cell_type": "markdown",
   "metadata": {},
   "source": [
    "## Notation and definitions\n",
    "\n",
    "- $N={1,…,n}$ - nodes, vertices, players\n",
    "- $g \\in \\{0,1\\}^{n \\times n}$ adjacency matrix (unweighted, possibly directed)\n",
    "- $g_{ij} = 1$ indicates a link, tie, or edge between $i$ and $j$\n",
    "- Alternative notation: $ij \\in g$ a link between $i$ and $j$\n",
    "- Network is $(N,g)$"
   ]
  },
  {
   "cell_type": "markdown",
   "metadata": {},
   "source": [
    "## Undirected Graphs"
   ]
  },
  {
   "cell_type": "markdown",
   "metadata": {},
   "source": [
    "#### Adjacency matrix\n",
    "$g_{ij}=1$ iff $i$ & $j$ are linked undirected, so symmetric,"
   ]
  },
  {
   "cell_type": "code",
   "execution_count": null,
   "metadata": {},
   "outputs": [],
   "source": [
    "# define symmetric adjacency matrix\n",
    "g_matrix = np.array([\n",
    "    [0, 1, 0, 1],\n",
    "    [1, 0, 0, 1],\n",
    "    [0, 0, 0, 1], \n",
    "    [1, 1, 1, 0]\n",
    "])\n",
    "g_matrix"
   ]
  },
  {
   "cell_type": "code",
   "execution_count": null,
   "metadata": {},
   "outputs": [],
   "source": [
    "g = nx.from_numpy_array(g_matrix,)\n",
    "nx.draw(g, with_labels=True)"
   ]
  },
  {
   "cell_type": "markdown",
   "metadata": {},
   "source": [
    "#### List of the links"
   ]
  },
  {
   "cell_type": "code",
   "execution_count": null,
   "metadata": {},
   "outputs": [],
   "source": [
    "g_edges = [(0, 1), (0, 3), (1, 3), (2, 3)]\n",
    "g_edges"
   ]
  },
  {
   "cell_type": "code",
   "execution_count": null,
   "metadata": {},
   "outputs": [],
   "source": [
    "g = nx.from_edgelist(g_edges)\n",
    "nx.draw(g, with_labels=True)"
   ]
  },
  {
   "cell_type": "code",
   "execution_count": null,
   "metadata": {},
   "outputs": [],
   "source": [
    "print(\"nodes\")\n",
    "print(g.nodes)\n",
    "print(\"\\nedge list\")\n",
    "print(nx.to_edgelist(g))\n",
    "print(\"\\nadjacency matrix\")\n",
    "print(nx.to_numpy_array(g))"
   ]
  },
  {
   "cell_type": "markdown",
   "metadata": {},
   "source": [
    "### What will happen if matrix is not symmetric?"
   ]
  },
  {
   "cell_type": "code",
   "execution_count": null,
   "metadata": {},
   "outputs": [],
   "source": [
    "g_matrix = np.array([\n",
    "    [0, 1, 0, 1],\n",
    "    [0, 0, 0, 1],\n",
    "    [0, 0, 0, 0], \n",
    "    [1, 0, 1, 0]\n",
    "])\n",
    "g = nx.from_numpy_array(g_matrix,)\n",
    "print(nx.to_numpy_array(g))"
   ]
  },
  {
   "cell_type": "markdown",
   "metadata": {},
   "source": [
    "## Directed Graphs"
   ]
  },
  {
   "cell_type": "markdown",
   "metadata": {},
   "source": [
    "#### Adjacency matrix\n",
    "$g_{ij}=1$ iff $i$ is linked with $j$, i.e. directed links, so matrix could be not symmetric"
   ]
  },
  {
   "cell_type": "code",
   "execution_count": null,
   "metadata": {},
   "outputs": [],
   "source": [
    "dg_matrix = np.array([\n",
    "    [0, 1, 0, 1],\n",
    "    [0, 0, 0, 1],\n",
    "    [0, 0, 0, 0], \n",
    "    [1, 0, 1, 0]\n",
    "])\n",
    "dg = nx.from_numpy_array(dg_matrix, create_using=nx.DiGraph)\n",
    "nx.draw(dg, with_labels=True)"
   ]
  },
  {
   "cell_type": "markdown",
   "metadata": {},
   "source": [
    "#### List of the links"
   ]
  },
  {
   "cell_type": "code",
   "execution_count": null,
   "metadata": {},
   "outputs": [],
   "source": [
    "dg = nx.DiGraph()\n",
    "dg.add_edges_from([(0, 1), (0, 3), (1, 3), (3, 0), (3, 2)])\n",
    "nx.draw(dg, with_labels=True)"
   ]
  },
  {
   "cell_type": "code",
   "execution_count": null,
   "metadata": {},
   "outputs": [],
   "source": [
    "print(\"nodes\")\n",
    "print(dg.nodes)\n",
    "print(\"\\nedge list\")\n",
    "print(nx.to_edgelist(dg))\n",
    "print(\"\\nadjacency matrix\")\n",
    "print(nx.to_numpy_array(dg))"
   ]
  },
  {
   "cell_type": "markdown",
   "metadata": {},
   "source": [
    "## Weighted Directed Network"
   ]
  },
  {
   "cell_type": "markdown",
   "metadata": {},
   "source": [
    "### Row stochastic example"
   ]
  },
  {
   "cell_type": "code",
   "execution_count": null,
   "metadata": {},
   "outputs": [],
   "source": [
    "dgrs_matrix = np.array([\n",
    "    [1/3, 1/3, 1/3],\n",
    "    [1/2, 1/2, 0],\n",
    "    [0, 1/4, 3/4]\n",
    "])\n",
    "dgrs_matrix"
   ]
  },
  {
   "cell_type": "code",
   "execution_count": null,
   "metadata": {},
   "outputs": [],
   "source": [
    "dgrs = nx.from_numpy_array(dgrs_matrix,  create_using=nx.DiGraph)\n",
    "nx.to_edgelist(dgrs)"
   ]
  },
  {
   "cell_type": "code",
   "execution_count": null,
   "metadata": {},
   "outputs": [],
   "source": [
    "# define nodes' position\n",
    "pos = nx.circular_layout(dgrs)\n",
    "\n",
    "# draw nodes\n",
    "nx.draw_networkx_nodes(dgrs, pos)\n",
    "# draw nodes'label\n",
    "nx.draw_networkx_labels(dgrs, pos, font_size=10)\n",
    "# draw edges as arcs, see connection style documentation for more options\n",
    "nx.draw_networkx_edges(dgrs, pos, edgelist=nx.to_edgelist(dgrs), width=1,connectionstyle=\"arc3,rad=-0.2\")\n",
    "# extract weights\n",
    "edge_labels = nx.get_edge_attributes(dgrs, \"weight\")\n",
    "edge_labels = {x: \"{:.2g}\".format(edge_labels[x]) for x in edge_labels}\n",
    "# plot edges weights with manual position adjustment\n",
    "edge_labels_loop = {x: edge_labels[x] for x in edge_labels if x[0] == x[1]}\n",
    "edge_labels_s2b = {x: edge_labels[x] for x in edge_labels if x[0] < x[1]}\n",
    "edge_labels_b2s = {x: edge_labels[x] for x in edge_labels if x[0] > x[1]}\n",
    "nx.draw_networkx_edge_labels(dgrs, {k:(pos[k][0], pos[k][1]-0.35) for k in pos},  edge_labels_s2b)\n",
    "nx.draw_networkx_edge_labels(dgrs, {k:(pos[k][0], pos[k][1]+0.35) for k in pos},  edge_labels_b2s)\n",
    "nx.draw_networkx_edge_labels(dgrs, {k:(pos[k][0]+0.11, pos[k][1]+0.23) for k in pos},  edge_labels_loop)\n",
    "# show plot\n",
    "plt.box(False)\n",
    "plt.show()\n"
   ]
  },
  {
   "cell_type": "markdown",
   "metadata": {},
   "source": [
    "### Classical weight example"
   ]
  },
  {
   "cell_type": "code",
   "execution_count": null,
   "metadata": {},
   "outputs": [],
   "source": [
    "dgw_matrix = np.array([\n",
    "    [0, 7, 2],\n",
    "    [5, 0, 0],\n",
    "    [0, 4, 0]\n",
    "])\n",
    "dgw_matrix"
   ]
  },
  {
   "cell_type": "code",
   "execution_count": null,
   "metadata": {},
   "outputs": [],
   "source": [
    "dgw = nx.from_numpy_array(dgw_matrix,  create_using=nx.DiGraph)\n",
    "nx.to_edgelist(dgw)"
   ]
  },
  {
   "cell_type": "code",
   "execution_count": null,
   "metadata": {},
   "outputs": [],
   "source": [
    "# define nodes' position\n",
    "pos = nx.circular_layout(dgw)\n",
    "\n",
    "# draw nodes\n",
    "nx.draw_networkx_nodes(dgw, pos)\n",
    "# draw nodes'label\n",
    "nx.draw_networkx_labels(dgw, pos, font_size=10)\n",
    "# draw edges as arcs, see connection style documentation for more options\n",
    "nx.draw_networkx_edges(dgw, pos, edgelist=nx.to_edgelist(dgw), width=1,connectionstyle=\"arc3,rad=-0.2\")\n",
    "# extract weights\n",
    "edge_labels = nx.get_edge_attributes(dgw, \"weight\")\n",
    "edge_labels = {x: \"{:.2g}\".format(edge_labels[x]) for x in edge_labels}\n",
    "# plot edges weights with manual position adjustment\n",
    "edge_labels_loop = {x: edge_labels[x] for x in edge_labels if x[0] == x[1]}\n",
    "edge_labels_s2b = {x: edge_labels[x] for x in edge_labels if x[0] < x[1]}\n",
    "edge_labels_b2s = {x: edge_labels[x] for x in edge_labels if x[0] > x[1]}\n",
    "nx.draw_networkx_edge_labels(dgw, {k:(pos[k][0], pos[k][1]-0.35) for k in pos},  edge_labels_s2b)\n",
    "nx.draw_networkx_edge_labels(dgw, {k:(pos[k][0], pos[k][1]+0.35) for k in pos},  edge_labels_b2s)\n",
    "nx.draw_networkx_edge_labels(dgw, {k:(pos[k][0]+0.11, pos[k][1]+0.23) for k in pos},  edge_labels_loop)\n",
    "# show plot\n",
    "plt.box(False)\n",
    "plt.show()"
   ]
  },
  {
   "cell_type": "markdown",
   "metadata": {},
   "source": [
    "## Walk, Path, Cycle\n",
    "\n",
    "- Walk from $i_1$ to $i_K$: a sequence of nodes $(i_1,i_2,\\dots, i_K)$ and sequence of links $(i_1i_2,i_2i_3,...,i_{K‐1}i_K)$ such that\n",
    "$i_{k‐1}i_k \\in g$ for each $k$. Convenient to represent it as the corresponding\n",
    "sequence of nodes $(i_1,i_2,\\dots, i_K)$ such that $i_{k‐1}i_k \\in g$\n",
    "for each $k$.\n",
    "- Path: a walk $(i_1,i_2,... i_K)$ with each node $i_k$ distinct\n",
    "- Cycle: a walk where $i_1 = i_K$\n",
    "- Geodesic: a shortest path between two nodes"
   ]
  },
  {
   "cell_type": "markdown",
   "metadata": {},
   "source": [
    "#### Illustrative network"
   ]
  },
  {
   "cell_type": "code",
   "execution_count": null,
   "metadata": {},
   "outputs": [],
   "source": [
    "graph = nx.from_edgelist([\n",
    "    (1, 2, {\"distance\": 10}),\n",
    "    (1, 3, {\"distance\": 30}),\n",
    "    (2, 3, {\"distance\": 10}),\n",
    "    (3, 4, {\"distance\": 10}),\n",
    "    (3, 5, {\"distance\": 10}),\n",
    "    (4, 5, {\"distance\": 10}),\n",
    "    (3, 7, {\"distance\": 10}),\n",
    "    (7, 6, {\"distance\": 10}),\n",
    "    (5, 6, {\"distance\": 10})\n",
    "])"
   ]
  },
  {
   "cell_type": "code",
   "execution_count": null,
   "metadata": {},
   "outputs": [],
   "source": [
    "pos = nx.spring_layout(graph, seed=7)  # positions for all nodes - seed for reproducibility\n",
    "\n",
    "# nodes\n",
    "nx.draw_networkx_nodes(graph, pos)\n",
    "nx.draw_networkx_labels(graph, pos, font_size=10)\n",
    "nx.draw_networkx_edges(graph, pos, edgelist=nx.to_edgelist(graph), width=2)\n",
    "plt.box(False)\n",
    "plt.show()"
   ]
  },
  {
   "cell_type": "markdown",
   "metadata": {},
   "source": [
    "#### Path and walk from 1 to 7\n",
    "$(1, 2, 3, 4, 5, 6, 7)$"
   ]
  },
  {
   "cell_type": "code",
   "execution_count": null,
   "metadata": {},
   "outputs": [],
   "source": [
    "path_17 = [(1, 2), (2, 3), (3, 4), (4, 5), (5, 6), (6, 7)]\n",
    "nx.draw_networkx_nodes(graph, pos)\n",
    "nx.draw_networkx_labels(graph, pos, font_size=10)\n",
    "nx.draw_networkx_edges(graph, pos, edgelist=nx.to_edgelist(graph), width=2)\n",
    "nx.draw_networkx_edges(graph, pos, edgelist=path_17, width=2, edge_color=\"r\")\n",
    "plt.box(False)\n",
    "plt.show()"
   ]
  },
  {
   "cell_type": "markdown",
   "metadata": {},
   "source": [
    "#### Walk from 1 to 7, which is not a path\n",
    "$(1, 2, 3, 4, 5, 3, 7)$"
   ]
  },
  {
   "cell_type": "code",
   "execution_count": null,
   "metadata": {},
   "outputs": [],
   "source": [
    "walk_17 = [(1, 2), (2, 3), (3, 4), (4, 5), (5, 3), (3, 7)]\n",
    "nx.draw_networkx_nodes(graph, pos)\n",
    "nx.draw_networkx_labels(graph, pos, font_size=10)\n",
    "nx.draw_networkx_edges(graph, pos, edgelist=nx.to_edgelist(graph), width=2)\n",
    "nx.draw_networkx_edges(graph, pos, edgelist=walk_17, width=2, edge_color=\"r\")\n",
    "plt.box(False)\n",
    "plt.show()"
   ]
  },
  {
   "cell_type": "markdown",
   "metadata": {},
   "source": [
    "#### Simple Cycle (and a walk) from 1 to 1: \n",
    "$(1, 2, 3, 1)$"
   ]
  },
  {
   "cell_type": "code",
   "execution_count": null,
   "metadata": {},
   "outputs": [],
   "source": [
    "walk_seq = [(1, 2), (2, 3), (3, 1)]\n",
    "nx.draw_networkx_nodes(graph, pos)\n",
    "nx.draw_networkx_labels(graph, pos, font_size=10)\n",
    "nx.draw_networkx_edges(graph, pos, edgelist=nx.to_edgelist(graph), width=2)\n",
    "nx.draw_networkx_edges(graph, pos, edgelist=walk_seq, width=2, edge_color=\"r\")\n",
    "plt.box(False)\n",
    "plt.show()"
   ]
  },
  {
   "cell_type": "code",
   "execution_count": null,
   "metadata": {},
   "outputs": [],
   "source": [
    "walk_seq = [(1, 2), (2, 3), (3, 4), (4, 5), (5, 3), (3, 1)]\n",
    "nx.draw_networkx_nodes(graph, pos)\n",
    "nx.draw_networkx_labels(graph, pos, font_size=10)\n",
    "nx.draw_networkx_edges(graph, pos, edgelist=nx.to_edgelist(graph), width=2)\n",
    "nx.draw_networkx_edges(graph, pos, edgelist=walk_seq, width=2, edge_color=\"r\")\n",
    "plt.box(False)\n",
    "plt.show()"
   ]
  },
  {
   "cell_type": "markdown",
   "metadata": {},
   "source": [
    "#### Python code examples for paths and cycle analysis"
   ]
  },
  {
   "cell_type": "code",
   "execution_count": null,
   "metadata": {},
   "outputs": [],
   "source": [
    "# all paths from 1 to 7 as seq of nodes\n",
    "for x in nx.all_simple_paths(graph, 1, 7):\n",
    "    print(x)"
   ]
  },
  {
   "cell_type": "code",
   "execution_count": null,
   "metadata": {},
   "outputs": [],
   "source": [
    "# all paths from 1 to 7 as seq of edges\n",
    "for x in nx.all_simple_edge_paths(graph, 1, 7):\n",
    "    print(x)"
   ]
  },
  {
   "cell_type": "code",
   "execution_count": null,
   "metadata": {},
   "outputs": [],
   "source": [
    "# list with shortest path\n",
    "for x in nx.shortest_simple_paths(graph, 1, 7):\n",
    "    print(x)"
   ]
  },
  {
   "cell_type": "code",
   "execution_count": null,
   "metadata": {},
   "outputs": [],
   "source": [
    "# list with shortest path using 'distance' as a weight\n",
    "for x in nx.shortest_simple_paths(graph, 1, 7, \"distance\"):\n",
    "    print(x)"
   ]
  },
  {
   "cell_type": "code",
   "execution_count": null,
   "metadata": {},
   "outputs": [],
   "source": [
    "# get cycles' basis\n",
    "nx.cycle_basis(graph)"
   ]
  },
  {
   "cell_type": "markdown",
   "metadata": {},
   "source": [
    "## Component\n",
    "- $(N,g)$ is connected if there is a path between every two nodes\n",
    "- Component: maximal connected subgraph\n",
    "    - $(N',g')$ is a subset of $(N,g)$\n",
    "    - $(N',g')$ is connected\n",
    "    - $i \\in N'$ and $ij \\in g$ implies $j \\in N'$ and $ij \\in g'$"
   ]
  },
  {
   "cell_type": "code",
   "execution_count": null,
   "metadata": {},
   "outputs": [],
   "source": [
    "# network with 4 components\n",
    "graph_comp = nx.from_edgelist([(1,5), (3, 4), (3, 5), (4, 5), (6, 10), (7, 8), (7, 9), (8, 9)])\n",
    "graph_comp.add_node(2)\n",
    "nx.draw(graph_comp, with_labels=True)"
   ]
  },
  {
   "cell_type": "code",
   "execution_count": null,
   "metadata": {},
   "outputs": [],
   "source": [
    "print(\"Number of components\")\n",
    "print(nx.number_connected_components(graph_comp))\n",
    "print(\"\\nComponents\")\n",
    "print([x for x in nx.connected_components(graph_comp)])"
   ]
  },
  {
   "cell_type": "code",
   "execution_count": null,
   "metadata": {},
   "outputs": [],
   "source": [
    "# getting component containing a specific node\n",
    "nx.node_connected_component(graph_comp, 4)"
   ]
  },
  {
   "cell_type": "markdown",
   "metadata": {},
   "source": [
    "# Homework\n",
    "\n",
    "1. Download the following data and create a network by using networkx package - Blagoevgrad transport scheme - https://data.egov.bg/data/view/a2753a73-e551-41a2-b354-4bc898e64363\n",
    "2. (Optional) Scrape the Rila's hut list from following page http://www.bulgarian-mountains.com/Huts/Rila and by scraping the information of each hut page, create a network with the hut connectivity."
   ]
  },
  {
   "cell_type": "markdown",
   "metadata": {},
   "source": [
    "# Measuring Networks: Summary Statistics and Characteristics \n",
    "\n",
    "- Global patterns of networks\n",
    "    - degree distributions\n",
    "    - path lengths\n",
    "    - ...\n",
    "- Segregation Patterns\n",
    "    - node types and homophily\n",
    "- Local Patterns\n",
    "    - Clustering\n",
    "    - Transitivity\n",
    "    - Support\n",
    "    - ...\n",
    "- Positions in networks\n",
    "    - Neighborhoods\n",
    "    - Centrality\n",
    "    - Influence\n",
    "    - ..."
   ]
  },
  {
   "cell_type": "markdown",
   "metadata": {},
   "source": [
    "## Diameter and average path length\n",
    "\n",
    "Questions of interest:\n",
    "- How close are nodes to each other:\n",
    "- How long does it take to\n",
    "reach average node?\n",
    "- How fast will information spread?\n",
    "- How does it depend on network density?\n",
    "\n",
    "Definitions:\n",
    "- Diameter – largest geodesic (largest shortest path). If unconnected, of largest component.\n",
    "- Average path length (less prone to outliers)"
   ]
  },
  {
   "cell_type": "code",
   "execution_count": null,
   "metadata": {},
   "outputs": [],
   "source": [
    "print(\"Diameter\")\n",
    "print(nx.diameter(graph))\n",
    "print(\"\\nAverage path length\")\n",
    "print(nx.average_shortest_path_length(graph))"
   ]
  },
  {
   "cell_type": "markdown",
   "metadata": {},
   "source": [
    "#### Size of the network vs diameter"
   ]
  },
  {
   "cell_type": "code",
   "execution_count": null,
   "metadata": {},
   "outputs": [],
   "source": [
    "graph_btree = nx.balanced_tree(2, 4)\n",
    "nx.draw(graph_btree)"
   ]
  },
  {
   "cell_type": "code",
   "execution_count": null,
   "metadata": {},
   "outputs": [],
   "source": [
    "print(\"Number of nodes\")\n",
    "print(graph_btree.number_of_nodes())\n",
    "print(\"\\nDiameter\")\n",
    "print(nx.diameter(graph_btree))\n",
    "print(\"\\nAverage path length\")\n",
    "print(nx.average_shortest_path_length(graph_btree))"
   ]
  },
  {
   "cell_type": "code",
   "execution_count": null,
   "metadata": {},
   "outputs": [],
   "source": [
    "graph_circle = nx.circulant_graph(31, [1])\n",
    "nx.draw_circular(graph_circle)"
   ]
  },
  {
   "cell_type": "code",
   "execution_count": null,
   "metadata": {},
   "outputs": [],
   "source": [
    "print(\"Number of nodes\")\n",
    "print(graph_circle.number_of_nodes())\n",
    "print(\"\\nDiameter\")\n",
    "print(nx.diameter(graph_circle))\n",
    "print(\"\\nAverage path length\")\n",
    "print(nx.average_shortest_path_length(graph_circle))"
   ]
  },
  {
   "cell_type": "markdown",
   "metadata": {},
   "source": [
    "#### Small average path length and diameter\n",
    "- Milgram (1967) letter experiments - https://en.wikipedia.org/wiki/Small-world_experiment\n",
    "    - median 5 for the 25% that made it\n",
    "- Co‐Authorship studies - https://sites.google.com/oakland.edu/grossman/home/the-erdoes-number-project/research-on-collaboration-in-research\n",
    "    - Grossman (2002) Math mean 7.6, max 27,\n",
    "    - Newman (2001) Physics mean 5.9, max 20\n",
    "    - Goyal et al (2004) Economics mean 9.5, max 29\n",
    "- WWW\n",
    "    - Adamic, Pitkow (1999) – mean 3.1 (85.4% possible of 50M pages) - https://link.springer.com/chapter/10.1007/3-540-48155-9_27\n",
    "- Facebook\n",
    "    - Backstrom et al (2012) – mean 4.74 (721 million users) - https://arxiv.org/abs/1111.4570"
   ]
  },
  {
   "cell_type": "markdown",
   "metadata": {},
   "source": [
    "## Neighborhood and degree\n",
    "- Neighborhood: $N_i(g) = \\{ j | ij \\in g \\}$ (usual convention $ii$ not in $g$ )\n",
    "- Degree: $d_i = \\# N_i(g)$"
   ]
  },
  {
   "cell_type": "code",
   "execution_count": null,
   "metadata": {},
   "outputs": [],
   "source": [
    "print(\"Neighborhood per nodes\")\n",
    "print([x for x in graph.adjacency()])\n",
    "print(\"\\nDegrees per nodes\")\n",
    "print(graph_comp.degree())"
   ]
  },
  {
   "cell_type": "markdown",
   "metadata": {},
   "source": [
    "### Average Degree vs Degree distribution"
   ]
  },
  {
   "cell_type": "code",
   "execution_count": null,
   "metadata": {},
   "outputs": [],
   "source": [
    "def average_degree(graph):\n",
    "    return np.mean([x[1] for x in graph.degree()])\n",
    "\n",
    "def plot_degree_distribution(graph):\n",
    "    plt.hist([x[1] for x in graph.degree()])"
   ]
  },
  {
   "cell_type": "code",
   "execution_count": null,
   "metadata": {},
   "outputs": [],
   "source": [
    "graph_d1 = nx.from_edgelist([(x + 1, x +2) for x in range(8)])\n",
    "nx.draw(graph_d1)"
   ]
  },
  {
   "cell_type": "code",
   "execution_count": null,
   "metadata": {},
   "outputs": [],
   "source": [
    "graph_d2 = nx.from_edgelist([(1, x +2) for x in range(8)])\n",
    "nx.draw(graph_d2)"
   ]
  },
  {
   "cell_type": "code",
   "execution_count": null,
   "metadata": {},
   "outputs": [],
   "source": [
    "print(f\"average degree graph_d1 = {average_degree(graph_d1)}\")\n",
    "print(f\"average degree graph_d2 = {average_degree(graph_d2)}\")"
   ]
  },
  {
   "cell_type": "code",
   "execution_count": null,
   "metadata": {},
   "outputs": [],
   "source": [
    "plot_degree_distribution(graph_d1)"
   ]
  },
  {
   "cell_type": "code",
   "execution_count": null,
   "metadata": {},
   "outputs": [],
   "source": [
    "plot_degree_distribution(graph_d2)"
   ]
  },
  {
   "cell_type": "markdown",
   "metadata": {},
   "source": [
    "## Clustering\n",
    "\n",
    "- What fraction of my friends are friends?\n",
    "$$Cl_i(g) = \\frac{\\#\\{ kj \\in g | k, j \\in N_i(g)\\}}{\\#\\{ kj | k, j \\in N_i(g)\\}}$$\n",
    "- Average clustering: $$Cl_{avg}(g) =\\frac{1}{n}\\sum_{i} Cl_{i}(g)$$\n",
    "- Overall clustering:\n",
    "$$Cl(g) =\\frac{\\sum_{i} \\#\\{ kj \\in g | k, j \\in N_i(g)\\}}{\\sum_i \\#\\{ kj | k, j \\in N_i(g)\\}}$$"
   ]
  },
  {
   "cell_type": "markdown",
   "metadata": {},
   "source": [
    "### Differences between average and overall clustering"
   ]
  },
  {
   "cell_type": "code",
   "execution_count": null,
   "metadata": {},
   "outputs": [],
   "source": [
    "# aux graph generator to support the demo\n",
    "def create_cluster_example(n):\n",
    "    graph = nx.Graph()\n",
    "    graph.add_node(0)\n",
    "\n",
    "    for i in range(n):\n",
    "        edges = [(0, i * 3 + j + 1) for j in range(3)] + [(i * 3 + j + 1, i * 3 + ((j + 1) % 3) + 1) for j in range(3)] \n",
    "        graph.add_edges_from(edges)\n",
    "        \n",
    "    return graph\n",
    "\n",
    "# overall clustering calculation is not available in networkx\n",
    "def overall_clustering(graph):\n",
    "    triangles = nx.triangles(graph)\n",
    "    degree = nx.degree(graph)\n",
    "    try:\n",
    "        return sum([triangles[k] for k in triangles]) / sum([v * (v - 1) / 2 for k, v in degree])\n",
    "    except:\n",
    "        return 0"
   ]
  },
  {
   "cell_type": "code",
   "execution_count": null,
   "metadata": {},
   "outputs": [],
   "source": [
    "graph_cluster = create_cluster_example(5)\n",
    "nx.draw(graph_cluster, with_labels=True)"
   ]
  },
  {
   "cell_type": "code",
   "execution_count": null,
   "metadata": {},
   "outputs": [],
   "source": [
    "for n in range(1, 10):\n",
    "    size = n * 5\n",
    "    graph = create_cluster_example(size)\n",
    "    avg_cluster = nx.average_clustering(graph)\n",
    "    ovr_cluster = overall_clustering(graph)\n",
    "    print(f\"# clusters = {size}\\t avg. clustering {avg_cluster:.4f}\\t overall clustering {ovr_cluster:.4f}\")\n",
    "    print()"
   ]
  },
  {
   "cell_type": "markdown",
   "metadata": {},
   "source": [
    "## Centrality measures\n",
    "\n",
    "Four different things to measure:\n",
    "- Degree - connectedness\n",
    "- Closeness - ease of reaching other nodes\n",
    "- Betweenness - role as an intermediary, connector\n",
    "- Influence, Prestige, Eigenvectors \"not what you know, but who you know..\""
   ]
  },
  {
   "cell_type": "code",
   "execution_count": null,
   "metadata": {},
   "outputs": [],
   "source": [
    "# graph used for illustrations\n",
    "edges_list = [(1, 2), (1, 3), (2, 3), (3, 4), (4, 5), (5, 6), (5, 7), (6, 7)]\n",
    "graph_centrality = nx.from_edgelist(edges_list)\n",
    "nx.draw(graph_centrality, with_labels=True)"
   ]
  },
  {
   "cell_type": "markdown",
   "metadata": {},
   "source": [
    "### Degree Centrality\n",
    "- How 'connected' is a node?\n",
    "- degree captures connectedness\n",
    "- normalize by $n‐1$ ‐ most possible"
   ]
  },
  {
   "cell_type": "code",
   "execution_count": null,
   "metadata": {},
   "outputs": [],
   "source": [
    "nx.degree_centrality(graph_centrality)"
   ]
  },
  {
   "cell_type": "markdown",
   "metadata": {},
   "source": [
    "### Closeness Centrality\n",
    "\n",
    "- relative distances to other nodes\n",
    "$$C_i = \\frac{(n‐1)}{\\sum_{j} l(i,j)}$$\n",
    "- scales directly with distance – twice as far is half as central."
   ]
  },
  {
   "cell_type": "code",
   "execution_count": null,
   "metadata": {},
   "outputs": [],
   "source": [
    "nx.closeness_centrality(graph_centrality)"
   ]
  },
  {
   "cell_type": "markdown",
   "metadata": {},
   "source": [
    "### Betweenness Centrality\n",
    "\n",
    "\n",
    "$$C_{k} = \\frac{2}{(n‐1)(n‐2)}\\sum_{i,j\\neq k} \\frac{P_k(i,j)}{P(i,j)}$$\n",
    "where:\n",
    "\n",
    "- $P(i,j)$ number of geodesics between $i$ and $j$\n",
    "- $P_k(i,j)$ number of geodesics between $i$ and $j$ that $k$ lies on"
   ]
  },
  {
   "cell_type": "code",
   "execution_count": null,
   "metadata": {},
   "outputs": [],
   "source": [
    "nx.betweenness_centrality(graph_centrality)"
   ]
  },
  {
   "cell_type": "markdown",
   "metadata": {},
   "source": [
    "### Eigenvector Centrality\n",
    "\n",
    "- Centrality is proportional to the sum of neighbors' centralities\n",
    "$$C_i = a\\sum_j g_{ij} C_j$$"
   ]
  },
  {
   "cell_type": "code",
   "execution_count": null,
   "metadata": {},
   "outputs": [],
   "source": [
    "nx.eigenvector_centrality(graph_centrality)"
   ]
  },
  {
   "cell_type": "code",
   "execution_count": null,
   "metadata": {},
   "outputs": [],
   "source": [
    "r = nx.eigenvector_centrality(graph_centrality)"
   ]
  },
  {
   "cell_type": "code",
   "execution_count": null,
   "metadata": {},
   "outputs": [],
   "source": [
    "(r[3] +r[5])/r[4]"
   ]
  },
  {
   "cell_type": "code",
   "execution_count": null,
   "metadata": {},
   "outputs": [],
   "source": [
    "(r[2] + r[3])/r[1]"
   ]
  },
  {
   "cell_type": "markdown",
   "metadata": {},
   "source": [
    "#### Concepts related to eigenvector centrality:\n",
    "- Google Page rank: score of a page is proportional to the sum of the scores of pages\n",
    "linked to it\n",
    "- Random surfer model: start at some page on the\n",
    "web, randomly pick a link, follow it, repeat..."
   ]
  },
  {
   "cell_type": "markdown",
   "metadata": {},
   "source": [
    "# Homework\n",
    "\n",
    "- Load 26KeroNetwork undirected graph and calculate following statistics:\n",
    "    - Average degree\n",
    "    - Diameter\n",
    "    - Maximum Clustering\n",
    "    - Minimum Clustering\n",
    "\n",
    "\n",
    "- Load imports_manufactures directed graph and find out which of the countries has:\n",
    "    - maximum \"Closeness centrality\"\n",
    "    - maximum \"Betweenness centrality\"\n"
   ]
  },
  {
   "cell_type": "markdown",
   "metadata": {},
   "source": [
    "# Structure of Networks \n",
    "\n",
    "- Which networks form?\n",
    "    - random graph models ‐ \"How?\"\n",
    "    - Economic/game theoretic models ‐ \"Why?\"\n",
    "- How does it depend on context?"
   ]
  },
  {
   "cell_type": "markdown",
   "metadata": {},
   "source": [
    "## Static Random networks\n",
    "\n",
    "- Useful Benchmark\n",
    "    - component structure\n",
    "    - diameter\n",
    "    - degree distribution\n",
    "    - clustering..."
   ]
  },
  {
   "cell_type": "markdown",
   "metadata": {},
   "source": [
    "- Tools and methods\n",
    "    - properties and thresholds"
   ]
  },
  {
   "cell_type": "markdown",
   "metadata": {},
   "source": [
    "- Properties of Networks\n",
    "    - Every network has some probability of forming\n",
    "    - How to make sense of that?\n",
    "    - Examine what happens for \"large\" networks"
   ]
  },
  {
   "cell_type": "markdown",
   "metadata": {},
   "source": [
    "- Specifying Properties\n",
    "    - $G(N) =$ all the undirected networks on the set of nodes N\n",
    "    - A property is a set $A(N)$ for each $N$ such that $A(N)$ is a subset of $G(N)$\n",
    "        - a specification of which networks have that property"
   ]
  },
  {
   "cell_type": "markdown",
   "metadata": {},
   "source": [
    "- Examples of Properties\n",
    "    - $A(N)=\\{g | N_i (g)$ nonempty for all $i \\in N\\}$\n",
    "        - property of no isolated nodes\n",
    "    - $A(N)=\\{g | l (i,j)$ finite for all $i,j \\in N\\}$\n",
    "        - network is connected\n",
    "    - $A(N)=\\{g | l (i,j) < \\log(n)$ for all $i,j \\in N\\}$\n",
    "        - diameter is less than $\\log (n)$"
   ]
  },
  {
   "cell_type": "markdown",
   "metadata": {},
   "source": [
    "- Monotone Properties\n",
    "    - A property $A(N)$ is monotone if $g \\in A(N)$ and $g \\subset g'$ implies $g' \\in A(N)$.\n",
    "    - All three of the previous properties are monotone"
   ]
  },
  {
   "cell_type": "markdown",
   "metadata": {},
   "source": [
    "- Limiting Properties\n",
    "    - In order to deduce things about random networks, we often look at \"large\" networks, by examining limits\n",
    "    - Deduce things about properties as $n \\to \\infty$"
   ]
  },
  {
   "cell_type": "markdown",
   "metadata": {},
   "source": [
    "- Threshold Functions and Phase Transitions\n",
    "    - t(n) is a threshold function for a monotone property\n",
    "$A(N)$ if\n",
    "$P[A(N) | p(n) ] \\to 1$ if $p(n)/t(n) \\to \\infty$\n",
    "and\n",
    "$P[A(N) | p(n) ] \\to 0$ if $p(n)/t(n) \\to 0$\n",
    "    - A phase transition occurs at $t(n)$"
   ]
  },
  {
   "cell_type": "code",
   "execution_count": null,
   "metadata": {},
   "outputs": [],
   "source": [
    "def graph_stat(graph):\n",
    "    largest_comp = graph.subgraph(max(nx.connected_components(graph), key=lambda x: len(x)))\n",
    "    return {\n",
    "        \"number_of_nodes\": graph.number_of_nodes(),\n",
    "        \"number_connected_components\": nx.number_connected_components(graph),\n",
    "        \"number_of_nodes_in_largest_component\": largest_comp.number_of_nodes(),\n",
    "        \"diameter\": nx.diameter(largest_comp),\n",
    "        \"numb_cycles\": len(nx.cycle_basis(graph)),\n",
    "        \"average_shortest_path_length\": nx.average_shortest_path_length(largest_comp),\n",
    "        \"average_degree\": average_degree(graph),\n",
    "        \"average_clustering\": nx.average_clustering(graph),\n",
    "        \"overall_clustering\": overall_clustering(graph),\n",
    "    }"
   ]
  },
  {
   "cell_type": "markdown",
   "metadata": {},
   "source": [
    "### Erdos‐Renyi Random Graphs\n",
    "\n",
    "- start with $n$ nodes\n",
    "- each link is formed independently with some probability $p$\n",
    "- Serves as a benchmark $G(n,p)$"
   ]
  },
  {
   "cell_type": "code",
   "execution_count": null,
   "metadata": {},
   "outputs": [],
   "source": [
    "graph_random = nx.gnp_random_graph(50, 0.05)\n",
    "nx.draw(graph_random)"
   ]
  },
  {
   "cell_type": "code",
   "execution_count": null,
   "metadata": {},
   "outputs": [],
   "source": [
    "graph_stat(graph_random)"
   ]
  },
  {
   "cell_type": "markdown",
   "metadata": {},
   "source": [
    "#### Summary statistics dynamics"
   ]
  },
  {
   "cell_type": "code",
   "execution_count": null,
   "metadata": {},
   "outputs": [],
   "source": [
    "def bootstraped_stat_random(n, p, instances=100):\n",
    "    return pd.DataFrame([graph_stat(nx.gnp_random_graph(n, p)) for _ in range(instances)]).median(axis=0)"
   ]
  },
  {
   "cell_type": "code",
   "execution_count": null,
   "metadata": {},
   "outputs": [],
   "source": [
    "bootstraped_stat_random(50, 0.0001) # no connection between nodes"
   ]
  },
  {
   "cell_type": "code",
   "execution_count": null,
   "metadata": {},
   "outputs": [],
   "source": [
    "bootstraped_stat_random(50, 0.001) # the network has some links"
   ]
  },
  {
   "cell_type": "code",
   "execution_count": null,
   "metadata": {},
   "outputs": [],
   "source": [
    "bootstraped_stat_random(50, 0.01) # the network has a component with at least three links"
   ]
  },
  {
   "cell_type": "code",
   "execution_count": null,
   "metadata": {},
   "outputs": [],
   "source": [
    "bootstraped_stat_random(50, 0.05) # the network has a cycle"
   ]
  },
  {
   "cell_type": "code",
   "execution_count": null,
   "metadata": {},
   "outputs": [],
   "source": [
    "bootstraped_stat_random(50, 0.1) # the network is connected"
   ]
  },
  {
   "cell_type": "markdown",
   "metadata": {},
   "source": [
    "#### Thresholds for Erdos‐Renyi Random Graphs\n",
    "\n",
    "- $1/n^2$ ‐ the network has some links (avg deg $1/n$)\n",
    "- $1/n^{\\frac{3}{2}}$ – the network has a component with at least\n",
    "three links (avg deg $1/n^{\\frac{1}{2}}$ )\n",
    "- $1/n$ – the network has a cycle, the network has a unique\n",
    "giant component: a component with at least $n^a$ nodes for\n",
    "some fixed $a<1$; (avg deg 1)\n",
    "- $\\log(n)/n$ ‐ the network is connected; (avg deg $\\log(n)$)"
   ]
  },
  {
   "cell_type": "markdown",
   "metadata": {},
   "source": [
    "### Erdos‐Renyi Random Graphs drawbacks"
   ]
  },
  {
   "cell_type": "markdown",
   "metadata": {},
   "source": [
    "#### Degree distribution\n",
    "\n",
    "- probability that node has d links is binomial\n",
    "$$\\frac{(n‐1)!}{(d!(n‐d‐1)!)} p^d (1‐p)^{n‐d‐1}$$\n",
    "- Large n, small p, this is approximately a Poisson distribution:\n",
    "$$\\frac{(n‐1)^d}{d!} p^d e^{‐(n‐1)p}$$\n",
    "- hence name ``Poisson random graphs’’"
   ]
  },
  {
   "cell_type": "code",
   "execution_count": null,
   "metadata": {},
   "outputs": [],
   "source": [
    "\n",
    "def plot_random_graph_degree_distribution(n, p):\n",
    "    values, counts = np.unique([x[1] for x in nx.gnp_random_graph(n, p).degree()], return_counts=True)\n",
    "    plt.plot(values, counts / np.sum(counts), label = \"Realized frequency\")\n",
    "\n",
    "    values, counts = np.unique(scipy.stats.poisson.rvs(mu=(n-1)*p, size=5000), return_counts=True)\n",
    "    plt.plot(values, counts / np.sum(counts), label = \"Poisson approximation\")\n",
    "    plt.legend()\n",
    "\n",
    "    plt.show()"
   ]
  },
  {
   "cell_type": "code",
   "execution_count": null,
   "metadata": {},
   "outputs": [],
   "source": [
    "plot_random_graph_degree_distribution(200, 0.03)"
   ]
  },
  {
   "cell_type": "markdown",
   "metadata": {},
   "source": [
    "Many real-world examples with fat tails distribution of links per node:  \n",
    "\n",
    "- Price DJS. 1965. Networks of scientific papers. Science 149: 510 15\n",
    "    - More high and low degree nodes than predicted at random\n",
    "    - Citation Networks ‐ too many with 0 citations,\n",
    "    too many with high numbers of citations to have\n",
    "    citations drawn at random\n",
    "    - \"Fat tails\" compared to random network\n",
    "- Pareto, V. (1896) Cours d’Economie Politique, Geneva: Droz\n",
    "- Yule, G. (1925) “A Mathematical Theory of Evolution Based on the Conclusions of Dr. J.C. Willis,” F.R.S. Philosophical Transactions of the Royal Society of London B 213:21–87.\n",
    "- Zipf, G. (1949) Human Behavior and the Principle of Least Effort, Cambridge, Mass.: Addison‐Wesley.\n",
    "- Simon, H. (1955) “On a Class of Skew Distribution Functions,” Biometrika 42(3–4):425–440."
   ]
  },
  {
   "cell_type": "markdown",
   "metadata": {},
   "source": [
    "#### Clustering\n",
    "\n",
    "- Average and Overall clustering tend to 0, if max degree is bounded and network becomes large:\n",
    "$$Cl(g) =\\frac{\\sum_i \\#\\{ kj \\in g | k, j \\in N_i(g)\\}}{\\sum_i \\#\\{ kj | k, j \\in N_i(g)\\}}=p$$\n",
    "- If degree is bounded, then $p(n‐1)$ is bounded\n",
    "- So $p$ goes to 0 as $n$ grows"
   ]
  },
  {
   "cell_type": "markdown",
   "metadata": {},
   "source": [
    "Real world examples - clustering Coefficients vs probability for link\n",
    "\n",
    "- Prison friendships\n",
    "    - .31 vs .0134\n",
    "- co‐authorships\n",
    "    - .15 math vs .00002,\n",
    "    - .09 biology vs .00001,\n",
    "    - .19 econ vs .00002,\n",
    "- www\n",
    "    - .11 for web links vs .0002"
   ]
  },
  {
   "cell_type": "markdown",
   "metadata": {},
   "source": [
    "### Few Examples"
   ]
  },
  {
   "cell_type": "code",
   "execution_count": null,
   "metadata": {},
   "outputs": [],
   "source": [
    "def degree_df(graph):\n",
    "    values, counts = np.unique(sorted([x[1] for x in graph.degree()], reverse=True), return_counts=True)\n",
    "    total_counts = np.sum(counts)\n",
    "    freq = counts / total_counts\n",
    "    cum_freq = np.cumsum(counts) / total_counts\n",
    "    return {\n",
    "        \"degree\": values,\n",
    "        \"freq\": freq,\n",
    "        \"cum_freq\": cum_freq\n",
    "    }\n",
    "\n",
    "def plot_ddf_comparison(graph1, graph2, graph3=None):\n",
    "    ddf1 = degree_df(graph1)\n",
    "    ddf2 = degree_df(graph2)\n",
    "    plt.plot(np.log(ddf1[\"degree\"][0:-1]), np.log(1 - ddf1[\"cum_freq\"][0:-1]), label=\"graph 1\")\n",
    "    plt.plot(np.log(ddf2[\"degree\"][0:-1]), np.log(1 - ddf2[\"cum_freq\"][0:-1]), label=\"graph 2\")\n",
    "    if graph3:\n",
    "        ddf3 = degree_df(graph3)\n",
    "        plt.plot(np.log(ddf3[\"degree\"][0:-1]), np.log(1 - ddf3[\"cum_freq\"][0:-1]), label=\"graph 3\")\n",
    "\n",
    "    plt.xlabel(\"log(degree)\")\n",
    "    plt.ylabel(\"log(cum distribution)\")\n",
    "    plt.legend()\n",
    "    plt.show()"
   ]
  },
  {
   "cell_type": "markdown",
   "metadata": {},
   "source": [
    "#### Zachary's karate club\n",
    "A social network of a karate club was studied by Wayne W. Zachary for a period of three years from 1970 to 1972. The network captures 34 members of a karate club, documenting links between pairs of members who interacted outside the club. During the study a conflict arose between the administrator \"John A\" and instructor \"Mr. Hi\" (pseudonyms), which led to the split of the club into two. Half of the members formed a new club around Mr. Hi; members from the other part found a new instructor or gave up karate. Based on collected data Zachary correctly assigned all but one member of the club to the groups they actually joined after the split."
   ]
  },
  {
   "cell_type": "code",
   "execution_count": null,
   "metadata": {},
   "outputs": [],
   "source": [
    "graph_kc = nx.karate_club_graph()\n",
    "graph_stat(graph_kc)"
   ]
  },
  {
   "cell_type": "code",
   "execution_count": null,
   "metadata": {},
   "outputs": [],
   "source": [
    "bootstraped_stat_random(34, 4.58 / (34 - 1))"
   ]
  },
  {
   "cell_type": "code",
   "execution_count": null,
   "metadata": {},
   "outputs": [],
   "source": [
    "graph_kc_random_sim = nx.gnp_random_graph(34, 4.58 / (34 - 1))\n",
    "graph_stat(graph_kc_random_sim)"
   ]
  },
  {
   "cell_type": "code",
   "execution_count": null,
   "metadata": {},
   "outputs": [],
   "source": []
  },
  {
   "cell_type": "code",
   "execution_count": null,
   "metadata": {},
   "outputs": [],
   "source": [
    "plot_ddf_comparison(graph_kc, graph_kc_random_sim)"
   ]
  },
  {
   "cell_type": "markdown",
   "metadata": {},
   "source": [
    "#### Florentine Families\n",
    "\n",
    "The marriage links of Florentine families"
   ]
  },
  {
   "cell_type": "code",
   "execution_count": null,
   "metadata": {},
   "outputs": [],
   "source": [
    "graph_ff = nx.florentine_families_graph()\n",
    "graph_stat(graph_ff)"
   ]
  },
  {
   "cell_type": "code",
   "execution_count": null,
   "metadata": {},
   "outputs": [],
   "source": [
    "bootstraped_stat_random(15, 2.66 / (15-1))"
   ]
  },
  {
   "cell_type": "code",
   "execution_count": null,
   "metadata": {},
   "outputs": [],
   "source": [
    "graph_ff_random_sim = nx.gnp_random_graph(15, 2.66 / (15-1))\n",
    "graph_stat(graph_ff_random_sim)"
   ]
  },
  {
   "cell_type": "code",
   "execution_count": null,
   "metadata": {},
   "outputs": [],
   "source": [
    "plot_ddf_comparison(graph_ff, graph_ff_random_sim)"
   ]
  },
  {
   "cell_type": "markdown",
   "metadata": {},
   "source": [
    "#### Davis Southern women social network\n",
    "The Davis Southern women social network is a dataset collected by Davis and a colleague in the 1930s. It contains the observed attendance at 14 social events by 18 Southern women. A vertex annotation \"Identity\" describes the type of vertex."
   ]
  },
  {
   "cell_type": "code",
   "execution_count": null,
   "metadata": {},
   "outputs": [],
   "source": [
    "graph_dsw = nx.davis_southern_women_graph()\n",
    "graph_stat(graph_dsw)"
   ]
  },
  {
   "cell_type": "code",
   "execution_count": null,
   "metadata": {},
   "outputs": [],
   "source": [
    "graph_dsw_random_sim = nx.gnp_random_graph(32, 5.56 / (32-1))\n",
    "graph_stat(graph_dsw_random_sim)"
   ]
  },
  {
   "cell_type": "code",
   "execution_count": null,
   "metadata": {},
   "outputs": [],
   "source": [
    "plot_ddf_comparison(graph_dsw, graph_dsw_random_sim)"
   ]
  },
  {
   "cell_type": "markdown",
   "metadata": {},
   "source": [
    "### Rewired lattice ‐ Watts and Strogatz 98\n",
    "\n",
    "- Erdos‐Renyi model misses clustering\n",
    "    - clustering is on the order of p; going to 0 unless average degree is becoming infinite (and highly so...)\n",
    "- Start with ring‐lattice and then randomly pick some links to rewire\n",
    "    - start with high clustering but high diameter\n",
    "    - as rewire enough links, get low diameter\n",
    "    - don’t rewire too many, keep high clustering"
   ]
  },
  {
   "cell_type": "code",
   "execution_count": null,
   "metadata": {},
   "outputs": [],
   "source": [
    "graph_ws = nx.watts_strogatz_graph(50, 4, 0.05)\n",
    "nx.draw_circular(graph_ws)\n",
    "\n"
   ]
  },
  {
   "cell_type": "code",
   "execution_count": null,
   "metadata": {},
   "outputs": [],
   "source": [
    "nx.draw(graph_ws)"
   ]
  },
  {
   "cell_type": "code",
   "execution_count": null,
   "metadata": {},
   "outputs": [],
   "source": [
    "def bootstraped_stat_ws(n, k, p, instances=100):\n",
    "    return pd.DataFrame([graph_stat(nx.watts_strogatz_graph(n, k, p)) for _ in range(instances)]).median(axis=0)"
   ]
  },
  {
   "cell_type": "code",
   "execution_count": null,
   "metadata": {},
   "outputs": [],
   "source": [
    "bootstraped_stat_ws(50, 4, 0.001)"
   ]
  },
  {
   "cell_type": "code",
   "execution_count": null,
   "metadata": {},
   "outputs": [],
   "source": [
    "bootstraped_stat_ws(50, 4, 0.01)"
   ]
  },
  {
   "cell_type": "code",
   "execution_count": null,
   "metadata": {},
   "outputs": [],
   "source": [
    "bootstraped_stat_ws(50, 4, 0.1)"
   ]
  },
  {
   "cell_type": "code",
   "execution_count": null,
   "metadata": {},
   "outputs": [],
   "source": [
    "bootstraped_stat_ws(50, 4, 0.25)"
   ]
  },
  {
   "cell_type": "markdown",
   "metadata": {},
   "source": [
    "### Newman, Watts, Strogatz 99"
   ]
  },
  {
   "cell_type": "code",
   "execution_count": null,
   "metadata": {},
   "outputs": [],
   "source": [
    "def bootstraped_stat_nws(n, k, p, instances=100):\n",
    "    return pd.DataFrame([graph_stat(nx.newman_watts_strogatz_graph(n, k, p)) for _ in range(instances)]).median(axis=0)"
   ]
  },
  {
   "cell_type": "code",
   "execution_count": null,
   "metadata": {},
   "outputs": [],
   "source": [
    "bootstraped_stat_nws(50, 4, 0.001)"
   ]
  },
  {
   "cell_type": "code",
   "execution_count": null,
   "metadata": {},
   "outputs": [],
   "source": [
    "bootstraped_stat_nws(50, 4, 0.01)"
   ]
  },
  {
   "cell_type": "code",
   "execution_count": null,
   "metadata": {},
   "outputs": [],
   "source": [
    "bootstraped_stat_nws(50, 4, 0.1)"
   ]
  },
  {
   "cell_type": "code",
   "execution_count": null,
   "metadata": {},
   "outputs": [],
   "source": [
    "bootstraped_stat_nws(50, 4, 0.25)"
   ]
  },
  {
   "cell_type": "markdown",
   "metadata": {},
   "source": [
    "### Few Examples"
   ]
  },
  {
   "cell_type": "markdown",
   "metadata": {},
   "source": [
    "#### Zachary's karate club"
   ]
  },
  {
   "cell_type": "code",
   "execution_count": null,
   "metadata": {},
   "outputs": [],
   "source": [
    "graph_stat(graph_kc)"
   ]
  },
  {
   "cell_type": "code",
   "execution_count": null,
   "metadata": {},
   "outputs": [],
   "source": [
    "bootstraped_stat_nws(34, 4, (4.58 - 4) / 4)"
   ]
  },
  {
   "cell_type": "code",
   "execution_count": null,
   "metadata": {},
   "outputs": [],
   "source": [
    "graph_kc_nws_sim = nx.newman_watts_strogatz_graph(34, 4, (4.58 - 4) / 4)\n",
    "graph_stat(graph_kc_nws_sim)"
   ]
  },
  {
   "cell_type": "code",
   "execution_count": null,
   "metadata": {},
   "outputs": [],
   "source": [
    "plot_ddf_comparison(graph_kc, graph_kc_nws_sim)"
   ]
  },
  {
   "cell_type": "markdown",
   "metadata": {},
   "source": [
    "### Growing Random Networks\n",
    "\n",
    "- Motivation\n",
    "    - Citation networks\n",
    "    - Web\n",
    "    - Scientific networks\n",
    "    - Societies..."
   ]
  },
  {
   "cell_type": "markdown",
   "metadata": {},
   "source": [
    "- What do they add?\n",
    "    - Realism(?)\n",
    "    - Natural form of heterogeneity via age\n",
    "    - A form of dynamics\n",
    "    - Natural way of varying degree distributions\n",
    "        - not pre‐specified as in static models"
   ]
  },
  {
   "cell_type": "markdown",
   "metadata": {},
   "source": [
    "#### Growing and Uniformly Random\n",
    "- Each date a new node is born\n",
    "- Forms m links to existing nodes\n",
    "- Each node is chosen with equal likelihood"
   ]
  },
  {
   "cell_type": "code",
   "execution_count": null,
   "metadata": {},
   "outputs": [],
   "source": [
    "def grn_uniform(n, m):\n",
    "    graph = nx.complete_graph(m)\n",
    "    for i in range(m, n):\n",
    "        new_edges = [(x, i) for x in random.sample(list(graph.nodes), m)]\n",
    "        graph.add_edges_from(new_edges)\n",
    "    return graph\n",
    "        "
   ]
  },
  {
   "cell_type": "code",
   "execution_count": null,
   "metadata": {},
   "outputs": [],
   "source": [
    "gnr = grn_uniform(50, 2)\n",
    "nx.draw(gnr)"
   ]
  },
  {
   "cell_type": "code",
   "execution_count": null,
   "metadata": {},
   "outputs": [],
   "source": [
    "pd.DataFrame([graph_stat(grn_uniform(50, 4)) for _ in range(100)]).median(axis=0)"
   ]
  },
  {
   "cell_type": "markdown",
   "metadata": {},
   "source": [
    "#### Growing and Uniformly Random - Degree distribution"
   ]
  },
  {
   "cell_type": "code",
   "execution_count": null,
   "metadata": {},
   "outputs": [],
   "source": [
    "pd.DataFrame([dict(grn_uniform(120, 20).degree()) for _ in range(1000)]).median(axis=0).plot(xlabel=\"Born time of the node\", ylabel=\"Degree\")"
   ]
  },
  {
   "cell_type": "code",
   "execution_count": null,
   "metadata": {},
   "outputs": [],
   "source": [
    "pd.DataFrame([dict(grn_uniform(220, 20).degree()) for _ in range(1000)]).median(axis=0).plot(xlabel=\"Born time of the node\", ylabel=\"Degree\")"
   ]
  },
  {
   "cell_type": "markdown",
   "metadata": {},
   "source": [
    "- Expected degree for node i born at $m<i<t$ is $$d_i(t)=m + m/(i+1) + m/(i+2) + ... + m/ t$$ or $d_i(t)=m(1+\\log(t/i))$ (Harmonic numbers)\n",
    "- Nodes that have expected degree less than $d$ at some time $t$ are those such that $m(1+\\log(t/i)) < d$, i.e.\n",
    "$$i > t e^{-\\frac{d-m}{m}}$$\n",
    "- Hence, degree distribution is\n",
    "$$F_t(d) =(t - t e^{-\\frac{d-m}{m}})/t = 1- e^{-\\frac{d-m}{m}}$$\n",
    "- Distribution of expected degrees is such that $d-m$ is exponentially distributed (mean $m$)\n",
    "- Good approximation for large $t$\n",
    "- Fat tails are not completly addressed"
   ]
  },
  {
   "cell_type": "markdown",
   "metadata": {},
   "source": [
    "#### Few examples"
   ]
  },
  {
   "cell_type": "markdown",
   "metadata": {},
   "source": [
    "##### Zachary's karate club"
   ]
  },
  {
   "cell_type": "code",
   "execution_count": null,
   "metadata": {},
   "outputs": [],
   "source": [
    "graph_stat(graph_kc)"
   ]
  },
  {
   "cell_type": "code",
   "execution_count": null,
   "metadata": {},
   "outputs": [],
   "source": [
    "graph_kc_grn_uni_sim = grn_uniform(34, math.ceil(4.5882 / 2))\n",
    "graph_stat(graph_kc_grn_uni_sim)"
   ]
  },
  {
   "cell_type": "code",
   "execution_count": null,
   "metadata": {},
   "outputs": [],
   "source": [
    "plot_ddf_comparison(graph_kc, graph_kc_grn_uni_sim)"
   ]
  },
  {
   "cell_type": "markdown",
   "metadata": {},
   "source": [
    "##### Florentine Families"
   ]
  },
  {
   "cell_type": "code",
   "execution_count": null,
   "metadata": {},
   "outputs": [],
   "source": [
    "graph_stat(graph_ff)"
   ]
  },
  {
   "cell_type": "code",
   "execution_count": null,
   "metadata": {},
   "outputs": [],
   "source": [
    "graph_ff_grn_uni_sim = grn_uniform(15, math.ceil(2.666 / 2))\n",
    "graph_stat(graph_ff_grn_uni_sim)"
   ]
  },
  {
   "cell_type": "code",
   "execution_count": null,
   "metadata": {},
   "outputs": [],
   "source": [
    "plot_ddf_comparison(graph_ff, graph_ff_grn_uni_sim)"
   ]
  },
  {
   "cell_type": "markdown",
   "metadata": {},
   "source": [
    "#### Preferential Attachment\n",
    "\n",
    "- Newborn nodes form $m$ links to existing nodes\n",
    "- $tm$ links in total\n",
    "- total degree is $2tm$\n",
    "- $d_i(t)$ degree of node born at time $i$ at time $t$\n",
    "- Probability of attaching to $i$ is $d_i(t)/2tm$"
   ]
  },
  {
   "cell_type": "code",
   "execution_count": null,
   "metadata": {},
   "outputs": [],
   "source": [
    "gnr_ba = nx.barabasi_albert_graph(50, 2)\n",
    "nx.draw(gnr_ba)"
   ]
  },
  {
   "cell_type": "code",
   "execution_count": null,
   "metadata": {},
   "outputs": [],
   "source": [
    "pd.DataFrame([graph_stat(nx.barabasi_albert_graph(50, 4)) for _ in range(100)]).median(axis=0)"
   ]
  },
  {
   "cell_type": "code",
   "execution_count": null,
   "metadata": {},
   "outputs": [],
   "source": [
    "plot_ddf_comparison(gnr, gnr_ba)"
   ]
  },
  {
   "cell_type": "markdown",
   "metadata": {},
   "source": [
    "#### Few examples"
   ]
  },
  {
   "cell_type": "markdown",
   "metadata": {},
   "source": [
    "##### Zachary's karate club"
   ]
  },
  {
   "cell_type": "code",
   "execution_count": null,
   "metadata": {},
   "outputs": [],
   "source": [
    "graph_stat(graph_kc)"
   ]
  },
  {
   "cell_type": "code",
   "execution_count": null,
   "metadata": {},
   "outputs": [],
   "source": [
    "graph_kc_grn_ba_sim = nx.barabasi_albert_graph(34, 3)\n",
    "graph_stat(graph_kc_grn_ba_sim)"
   ]
  },
  {
   "cell_type": "code",
   "execution_count": null,
   "metadata": {},
   "outputs": [],
   "source": [
    "plot_ddf_comparison(graph_kc, graph_kc_grn_ba_sim, graph_kc_grn_uni_sim)"
   ]
  },
  {
   "cell_type": "markdown",
   "metadata": {},
   "source": [
    "##### Florentine Families"
   ]
  },
  {
   "cell_type": "code",
   "execution_count": null,
   "metadata": {},
   "outputs": [],
   "source": [
    "graph_stat(graph_ff)"
   ]
  },
  {
   "cell_type": "code",
   "execution_count": null,
   "metadata": {},
   "outputs": [],
   "source": [
    "graph_ff_grn_ba_sim = nx.barabasi_albert_graph(15, 2)\n",
    "graph_stat(graph_ff_grn_ba_sim)"
   ]
  },
  {
   "cell_type": "code",
   "execution_count": null,
   "metadata": {},
   "outputs": [],
   "source": [
    "plot_ddf_comparison(graph_ff, graph_ff_grn_ba_sim, graph_ff_grn_uni_sim)"
   ]
  },
  {
   "cell_type": "markdown",
   "metadata": {},
   "source": [
    "#### Preferential Attachment - Degree distribution\n",
    "\n",
    "- new links gained per unit time\n",
    "$$\\frac{dd_i(t)}{dt} = m(d_i(t)/2tm) = d_i(t)/2t$$\n",
    "- starting condition\n",
    "$$d_i(i)=m$$\n",
    "- Solution of the differential equation is\n",
    "$$d_i(t) = m (t/i)^{\\frac{1}{2}}$$\n",
    "- Nodes that have expected degree less than $d$ at\n",
    "some time $t$ are those such that $m (t/i)^{\\frac{1}{2}} < d$, i.e.\n",
    "$$i > t \\frac{m^2}{d^2}$$\n",
    "$$F_t(d) =\\left(t- t \\frac{m^2}{d^2} \\right)/t = 1-\\frac{m^2}{d^2}$$"
   ]
  },
  {
   "cell_type": "markdown",
   "metadata": {},
   "source": [
    "#### Hybrid model \n",
    "\n",
    "- Fraction $\\alpha$ uniformly at random, $1‐\\alpha$ via preferential\n",
    "attachment\n",
    "- new links gained per unit time\n",
    "$$\\frac{dd_i(t)}{dt} = \\alpha m/t + (1-\\alpha)d_i(t)/2t$$\n",
    "- Starting condition $$d_i(i)=m$$\n",
    "- Solution of the differential equation is\n",
    "$$d_i(t) = (m + 2\\alpha m/(1-\\alpha))(t/i)^\\frac{1-\\alpha}{2} - 2\\alpha m/(1-\\alpha)$$\n",
    "- Nodes that have expected degree less than $d$ at some time $t$ are those $i such that\n",
    "$$(m + x\\alpha m)(t/i)^{\\frac{1}{x}} - x\\alpha m < d \\text{ where } x = \\frac{2}{1-\\alpha}$$\n",
    "- critical $i$ is such that\n",
    "$$\\frac{i}{t} = [(m + x\\alpha m)/ (d + x\\alpha m)]^x$$\n",
    "- Degree Distribution\n",
    "$$F(d) = \\frac{t – i}{t} = 1 – ((m+\\alpha mx)/(d+\\alpha mx))^x\\text{ where } x = \\frac{2}{1-\\alpha}$$\n",
    "- Spans Extremes\n",
    "    - $\\alpha$ near 1 nearly exponential\n",
    "    - $\\alpha$ near 0 nearly preferential"
   ]
  },
  {
   "cell_type": "code",
   "execution_count": null,
   "metadata": {},
   "outputs": [],
   "source": [
    "def hybrid_ddf(alpha, d, m):\n",
    "    if alpha == 1:\n",
    "        return np.maximum(1- np.exp(-(d-m)/m), 0)\n",
    "    x = 2 / (1 - alpha)\n",
    "    amx = alpha * m * x\n",
    "    return np.maximum(1 - (((m + amx) / (d + amx)) ** x), 0)\n",
    "\n",
    "def fit_hybrid_model(graph, m):\n",
    "    ddf = degree_df(graph)\n",
    "\n",
    "    def loss_fun(alpha):\n",
    "        ddf_est = hybrid_ddf(alpha, ddf[\"degree\"], m)\n",
    "        return np.sum((ddf[\"cum_freq\"] - ddf_est) ** 2)\n",
    "\n",
    "    return scipy.optimize.minimize(loss_fun, 0.5, bounds=scipy.optimize.Bounds(lb=0, ub=0.99))\n",
    "\n",
    "    # return loss_fun(0.5)"
   ]
  },
  {
   "cell_type": "code",
   "execution_count": null,
   "metadata": {},
   "outputs": [],
   "source": [
    "m = 2\n",
    "d = np.array(range(m+1,50))\n",
    "ddf_1 = hybrid_ddf(1, d, m)\n",
    "ddf_0 = hybrid_ddf(0, d, m)\n",
    "ddf_05 = hybrid_ddf(0.5, d, m)"
   ]
  },
  {
   "cell_type": "code",
   "execution_count": null,
   "metadata": {},
   "outputs": [],
   "source": [
    "plt.plot(np.log(d), np.log(1 - ddf_1), label=\"alpha = 1\")\n",
    "plt.plot(np.log(d), np.log(1 - ddf_05), label=\"alpha = 0.5\")\n",
    "plt.plot(np.log(d), np.log(1 - ddf_0), label=\"alpha = 0\")\n",
    "plt.legend()\n",
    "\n",
    "plt.show()"
   ]
  },
  {
   "cell_type": "code",
   "execution_count": null,
   "metadata": {},
   "outputs": [],
   "source": [
    "fit_hybrid_model(graph_kc, 3)"
   ]
  },
  {
   "cell_type": "code",
   "execution_count": null,
   "metadata": {},
   "outputs": [],
   "source": [
    "fit_hybrid_model(graph_ff, 2)"
   ]
  },
  {
   "cell_type": "markdown",
   "metadata": {},
   "source": [
    "#### Stochastic block models\n",
    "\n",
    "- Extend the basic Erdos‐Renyi G(n,p) model\n",
    "- Nodes have characteristics e.g., age, gender, religion, profession, etc.\n",
    "- links between nodes depend on the pairs’ characteristics\n",
    "- Example: link between $i$ and $j$ depends on their characteristics:\n",
    "$$\\log\\left( \\frac{p_{ij}}{1-p_{ij}}\\right) = \\beta_i X_i + \\beta_j X_j + β_{ij} |X_i ‐ X_j|$$\n",
    "- Could use this sort of model to test for homophily..."
   ]
  },
  {
   "cell_type": "code",
   "execution_count": null,
   "metadata": {},
   "outputs": [],
   "source": [
    "# graph used for illustrations\n",
    "edges_list = [\n",
    "    (1, 2), (1, 3), (2, 3), #yellow group\n",
    "    (4, 5), (4, 6), (4, 7), (5, 6), (6, 7), #blue group\n",
    "    (2, 4), (3, 5), # yellow to blue\n",
    "    (8, 9), (8, 10), (9, 10), (9, 11), (10, 11), #yellow group\n",
    "    (4, 8), (7, 8),\n",
    "    (3, 11)\n",
    "]\n",
    "graph_block = nx.from_edgelist(edges_list)\n",
    "\n",
    "pos = nx.spring_layout(graph_block)\n",
    "# draw nodes\n",
    "nx.draw_networkx_nodes(graph_block.subgraph([1, 2, 3]), pos, node_color=\"yellow\")\n",
    "nx.draw_networkx_nodes(graph_block.subgraph([4, 5, 6, 7]), pos, node_color=\"blue\")\n",
    "nx.draw_networkx_nodes(graph_block.subgraph([8, 9, 10, 11]), pos, node_color=\"green\")\n",
    "# draw nodes'label\n",
    "# nx.draw_networkx_labels(graph_block, pos, font_size=10)\n",
    "\n",
    "nx.draw_networkx_edges(graph_block, pos)\n",
    "# nx.draw(graph_centrality, with_labels=True)"
   ]
  },
  {
   "cell_type": "markdown",
   "metadata": {},
   "source": [
    "Probabilities\n",
    "- blue - blue -> 5/6\n",
    "- yellow - yellow - 3/3\n",
    "- green - green - 5/6\n",
    "- blue - yellow - 2/12\n",
    "- blue - green - 2/16\n",
    "- yellow - green - 1/12"
   ]
  },
  {
   "cell_type": "code",
   "execution_count": null,
   "metadata": {},
   "outputs": [],
   "source": [
    "sizes = [3, 4, 4]\n",
    "probs = [[1, 1/6, 1/12], [1/6, 5/6, 1/8], [1/12, 1/8, 5/6]]\n",
    "g = nx.stochastic_block_model(sizes, probs)"
   ]
  },
  {
   "cell_type": "code",
   "execution_count": null,
   "metadata": {},
   "outputs": [],
   "source": [
    "# define nodes' position\n",
    "# pos = nx.layout(g)\n",
    "pos = nx.spring_layout(g)\n",
    "# draw nodes\n",
    "nx.draw_networkx_nodes(g.subgraph(g.graph[\"partition\"][0]), pos, node_color=\"yellow\")\n",
    "nx.draw_networkx_nodes(g.subgraph(g.graph[\"partition\"][1]), pos, node_color=\"blue\")\n",
    "nx.draw_networkx_nodes(g.subgraph(g.graph[\"partition\"][2]), pos, node_color=\"green\")\n",
    "# draw nodes'label\n",
    "nx.draw_networkx_labels(g, pos, font_size=10)\n",
    "# draw edges as arcs, see connection style documentation for more options\n",
    "nx.draw_networkx_edges(g, pos, edgelist=nx.to_edgelist(g), width=1,connectionstyle=\"arc3,rad=-0.2\")"
   ]
  },
  {
   "cell_type": "markdown",
   "metadata": {},
   "source": [
    "# Homework\n",
    "\n",
    "Table 1\n",
    "\n",
    "|Percent:|52    |38    |5        |     5|\n",
    "|--------|------|------|---------|------|\n",
    "|        |White |Black |Hispanic |Other |\n",
    "|White| 86| 7| 47| 74|\n",
    "|Black| 4 | 85| 46| 13|\n",
    "|Hispanic| 4| 6| 2| 4|\n",
    "|Other| 6| 2| 5| 9|\n",
    "||100 |100 |100| 100|\n",
    "\n",
    "Table 2\n",
    "\n",
    "| |n=850|n=62|n=75|n=100|n=230|\n",
    "|-|-----|----|----|-----|-----|\n",
    "||Dutch| Moroccan| Turkish| Surinamese| Other|\n",
    "|Dutch| 79| 24| 11| 21| 47|\n",
    "|Moroccan| 2| 27| 8| 4| 5|\n",
    "|Turkish |2 |19 |59 |8 |6|\n",
    "|Surinamese| 3| 8| 8| 44| 12|\n",
    "|Other| 13| 22| 14| 23| 30|\n",
    "| |100| 100| 100| 100| 100|\n",
    "\n",
    "Write a python function which to find the probalities to have a link between the different groups in the tables above. Simulate block models which to represent them."
   ]
  },
  {
   "cell_type": "markdown",
   "metadata": {},
   "source": []
  }
 ],
 "metadata": {
  "kernelspec": {
   "display_name": "Python 3.9.13 ('aeem_39')",
   "language": "python",
   "name": "python3"
  },
  "language_info": {
   "codemirror_mode": {
    "name": "ipython",
    "version": 3
   },
   "file_extension": ".py",
   "mimetype": "text/x-python",
   "name": "python",
   "nbconvert_exporter": "python",
   "pygments_lexer": "ipython3",
   "version": "3.11.5"
  },
  "orig_nbformat": 4,
  "vscode": {
   "interpreter": {
    "hash": "788a9b24fa637eab57b45bed07a8fcb8efe0d1402f1c81c73e8ad2f54fe25e1b"
   }
  }
 },
 "nbformat": 4,
 "nbformat_minor": 2
}
