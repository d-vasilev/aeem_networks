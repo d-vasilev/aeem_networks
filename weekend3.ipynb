{
 "cells": [
  {
   "cell_type": "code",
   "execution_count": null,
   "metadata": {},
   "outputs": [],
   "source": [
    "import numpy as np\n",
    "import networkx as nx"
   ]
  },
  {
   "cell_type": "markdown",
   "metadata": {},
   "source": [
    "# Games on Networks"
   ]
  },
  {
   "cell_type": "markdown",
   "metadata": {},
   "source": [
    "## Basic Definitions\n",
    "\n",
    "- Each player chooses action $x_i$ in $\\{0,1\\}$\n",
    "- payoff will depend on\n",
    "    - how many neighbors choose each action\n",
    "    - how many neighbors a player has"
   ]
  },
  {
   "cell_type": "markdown",
   "metadata": {},
   "source": [
    "- Consider cases where $i$’s payoff is $u_{d_i}(x_i ,m_{N_i})$. It depends only on $d_i(g)$ and $m_{N_i}(g)$ ‐ the number of neighbors of $i$ choosing 1\n"
   ]
  },
  {
   "cell_type": "markdown",
   "metadata": {},
   "source": [
    "### Simple Complement Example\n",
    "- agent $i$ is willing to choose 1 if and only if at least $t$ neighbors do:\n",
    "    - Payoff action 0: $$u_{d_i}(0, m_{N_i}) = 0$$\n",
    "    - Payoff action 1: $$u_{d_i}(1, m_{N_i}) = -t + m_{N_i}$$"
   ]
  },
  {
   "cell_type": "markdown",
   "metadata": {},
   "source": [
    "### Best shot example\n",
    "- agent $i$ is willing to choose 1 if and only if no\n",
    "neighbors do:\n",
    "    - Payoff action 0: $$u_{d_i}(0, m_{N_i}) = \\begin{cases}1 \\text{ if }m_{N_i}>0\\\\ 0 \\text{ if }m_{N_i}=0\\end{cases}$$\n",
    "    - Payoff action 1: $$u_{d_i}(1, m_{N_i}) = 1 - c$$"
   ]
  },
  {
   "cell_type": "markdown",
   "metadata": {},
   "source": [
    "### Time for demo"
   ]
  },
  {
   "cell_type": "code",
   "execution_count": null,
   "metadata": {},
   "outputs": [],
   "source": [
    "import net_games\n",
    "from dash import Dash\n",
    "app = Dash(__name__, meta_tags=[{\"name\": \"viewport\", \"content\": \"width=device-width, initial-scale=1\"}])\n",
    "net_games.create_net_games_app(app)\n",
    "app.run()"
   ]
  },
  {
   "cell_type": "markdown",
   "metadata": {},
   "source": [
    "## Complement and Substitutes\n",
    "\n",
    "- **Externalities**: \n",
    "    - Others’ behaviors affect my utility/welfare\n",
    "    - Others’ behaviors affect my decisions, actions, consumptions, opinions...\n",
    "    - Others’ actions affect the relative payoffs\n",
    "to my behaviors\n",
    "- **Complements:** Choice to take an action by my friends increases my relative payoff to taking that action (e.g., friend\n",
    "learns to play a video game)\n",
    "$$u_d(1, m) - u_d (0,m) \\geq u_d(1,m') - u_d(0,m')\\text{ for all }d, m\\geq m'$$\n",
    "- **Substitutes:** Choice to take an action by my friends decreases my relative payoff to taking that action (e.g., roommate buys\n",
    "a stereo/fridge)\n",
    "$$u_d(1, m)-u_d(0, m) \\leq u_d (1,m')- u_d(0,m')\\text{ for all }d, m\\geq m'$$"
   ]
  },
  {
   "cell_type": "markdown",
   "metadata": {},
   "source": [
    "### Examples\n",
    "\n",
    "- Complements:\n",
    "    - education decisions - care about number of neighbors, access to jobs, etc.\n",
    "    - invest if at least $k$ neighbors do\n",
    "    - smoking & other behavior among teens, peers, ...\n",
    "    - technology adoption – how many others are compatible...\n",
    "    - learn a language, ...\n",
    "    - cheating, doping\n",
    "- Substitutes\n",
    "    - information gathering, e.g., payoff of 1 if anyone in neighborhood is informed, cost to being informed ($c<1$)\n",
    "    - local public goods (shareable products...)\n",
    "    - competing firms (oligopoly with local markets)"
   ]
  },
  {
   "cell_type": "markdown",
   "metadata": {},
   "source": [
    "## Equilibrium\n",
    "\n",
    "- Nash equilibrium: Every player’s action is optimal for that player given the actions of others\n",
    "- Often look for pure strategy equilibria\n",
    "- May require some mixing"
   ]
  },
  {
   "cell_type": "markdown",
   "metadata": {},
   "source": [
    "### Maximal Independent Set\n",
    "- **Independent Set:** a set $S$ of nodes such that no two\n",
    "nodes in $S$ are linked,\n",
    "- **Maximal:** every node in $N$ is either in $S$ or linked to a\n",
    "node in $S$"
   ]
  },
  {
   "cell_type": "code",
   "execution_count": null,
   "metadata": {},
   "outputs": [],
   "source": [
    "edge_list_6 = [(0, 1), (1, 2), (2, 0), (3, 2), (4, 2), (5, 4), (5, 3)]\n",
    "grph = nx.from_edgelist(edge_list_6)\n",
    "nx.draw(grph, with_labels=True)\n"
   ]
  },
  {
   "cell_type": "code",
   "execution_count": null,
   "metadata": {},
   "outputs": [],
   "source": [
    "nx.maximal_independent_set(grph)"
   ]
  },
  {
   "cell_type": "markdown",
   "metadata": {},
   "source": [
    "### Complete lattice\n",
    "Complete Lattice: for every set of equilibria $X$\n",
    "- there exists an equilibrium $x'$ such that $x'\\geq x$ for all $x$ in $X$, and\n",
    "- there exists an equilibrium $x''$ such that $x''\\leq x$ for all $x$ in $X$."
   ]
  },
  {
   "cell_type": "markdown",
   "metadata": {},
   "source": [
    "### Contrast: Complements and Substitutes\n",
    "\n",
    "- In a game of complements: pure strategy equilibria\n",
    "are a nonempty complete lattice\n",
    "- In a game of strategic substitutes:\n",
    "    - Best shot game: pure strategy equilibria exist and are related to maximal independent sets\n",
    "    - Others: pure strategy may not exist, but mixed will (with finite action spaces)\n",
    "    - Equilibria usually do not form a lattice\n"
   ]
  },
  {
   "cell_type": "markdown",
   "metadata": {},
   "source": [
    "### Time for demo"
   ]
  },
  {
   "cell_type": "code",
   "execution_count": null,
   "metadata": {},
   "outputs": [],
   "source": [
    "import net_games\n",
    "from dash import Dash\n",
    "app = Dash(__name__, meta_tags=[{\"name\": \"viewport\", \"content\": \"width=device-width, initial-scale=1\"}])\n",
    "net_games.create_net_games_app(app)\n",
    "app.run()"
   ]
  },
  {
   "cell_type": "markdown",
   "metadata": {},
   "source": [
    "## Multiple Equilibria"
   ]
  },
  {
   "cell_type": "markdown",
   "metadata": {},
   "source": [
    "- Morris (2000) Coordination game\n",
    "    - Care only about fraction of neighbors\n",
    "    - prefer to take action 1 if fraction $q$ or more take 1"
   ]
  },
  {
   "cell_type": "markdown",
   "metadata": {},
   "source": [
    "- Let $S$ be the group that take action 1\n",
    "- Each $i$ in $S$ must have fraction of at least $q$ neighbors in $S$\n",
    "- Each $i$ not in $S$ must have a fraction of at least $1 - q$ neighbors outside of $S$"
   ]
  },
  {
   "cell_type": "markdown",
   "metadata": {},
   "source": [
    "- A group $S$ is $r$‐cohesive relative to $g$ if\n",
    "$$\\min_{i \\in S} \\frac{|{j \\in N_i(g) \\cap S}|}{d_i(g)} \\geq r$$\n",
    "- At least a fraction $r$ of each member of $S$'s\n",
    "neighbors are in $S$\n",
    "- Cohesiveness of $S$ is $$\\min_{i \\in S} \\frac{|{j \\in N_i(g) \\cap S}|}{d_i(g)}$$\n"
   ]
  },
  {
   "cell_type": "markdown",
   "metadata": {},
   "source": [
    "### Equilibria where both strategies are played:\n",
    "- **Proposition:** there exists a pure strategy equilibrium where both actions are played if and only if there is\n",
    "a group $S$ that is at least $q$ cohesive and such that its complement is at least $1‐q$ cohesive.\n",
    "- If $q=\\frac{1}{2}$ players want to match majority\n",
    "- Then two groups that have more self‐ties than cross‐ties suffices to sustain both actions\n",
    "- As $q$ rises (game payoffs become more asymmetric), need more homophilous behavior\n",
    "between the groups to sustain both actions"
   ]
  },
  {
   "cell_type": "markdown",
   "metadata": {},
   "source": [
    "### Time for Demo"
   ]
  },
  {
   "cell_type": "code",
   "execution_count": null,
   "metadata": {},
   "outputs": [],
   "source": [
    "import net_games_coh\n",
    "from dash import Dash\n",
    "app = Dash(__name__, meta_tags=[{\"name\": \"viewport\", \"content\": \"width=device-width, initial-scale=1\"}])\n",
    "net_games_coh.create_net_games_coh_app(app)\n",
    "app.run()"
   ]
  },
  {
   "cell_type": "markdown",
   "metadata": {},
   "source": [
    "### Application\n",
    "- Drop out decisions\n",
    "- Strategic complements\n",
    "- Value to being in the labor market depends on number of friends in labor force, value to non‐labor activities depend on number of friends outside of labor market\n",
    "- Participate if at least some fraction of friends do\n",
    "- Homophily – and different starting conditions (history) lead to different outcomes for different groups..."
   ]
  },
  {
   "cell_type": "markdown",
   "metadata": {},
   "source": [
    "- Labour market Drop‐Out Rates, Chandra (2000) Census – males 25 to 55\n",
    "\n",
    "| |1940 |1950| 1960| 1970| 1980| 1990|\n",
    "|-|-----|----|-----|-----|-----|-----|\n",
    "|whites| 3.3| 4.2| 3.0| 3.5| 4.8 |4.9|\n",
    "|blacks| 4.2| 7.5| 6.9| 8.9| 12.7| 12.7|"
   ]
  },
  {
   "cell_type": "markdown",
   "metadata": {},
   "source": [
    "## Beyond 0‐1 Choices"
   ]
  },
  {
   "cell_type": "markdown",
   "metadata": {},
   "source": [
    "### Bramoulle and Kranton\n",
    "- $x_i$ in $[0,1]$\n",
    "- payoff $$u_i(x_i,x_{‐i})=f\\left( x_i+ \\sum_{ j \\in N_i(g)} x_j\\right) - cx_i\\text{, where }f\\text{ is concave}$$\n",
    "- Let $x^* > 0$ solve $f'(x^*) = c$\n",
    "- In all pure strategy Nash equilibria:\n",
    "$x_i+ \\sum_{j \\in N_i(g)} x_j \\geq x^*$ for all $i$, and if greater, then $x_i=0$\n",
    "- Look at two types of pure equilibria\n",
    "    - **distributed:** $x^* > x_i>0$ for some $i$’s\n",
    "    - **specialized:** for each $i$ either $x_i=0$ or $x_i=x*$"
   ]
  },
  {
   "cell_type": "markdown",
   "metadata": {},
   "source": [
    "#### Equilibrium examples\n",
    "Assuming $x^* = 1$"
   ]
  },
  {
   "attachments": {
    "image.png": {
     "image/png": "[encoded data removed]"
    }
   },
   "cell_type": "markdown",
   "metadata": {},
   "source": [
    "![image.png](attachment:image.png)"
   ]
  },
  {
   "attachments": {
    "image.png": {
     "image/png": "[encoded data removed]"
    }
   },
   "cell_type": "markdown",
   "metadata": {},
   "source": [
    "![image.png](attachment:image.png)"
   ]
  },
  {
   "cell_type": "markdown",
   "metadata": {},
   "source": [
    "Specialized Equilibria\n",
    "**Proposition (B&K):** The set of specialized Nash equilibria are profiles such that a maximal\n",
    "independent set = the specialists ($x_i = x^*$)"
   ]
  },
  {
   "cell_type": "markdown",
   "metadata": {},
   "source": [
    "#### Stability Notion: pure strategy equilibrium\n",
    "\n",
    "- perturb $x$ to $x_0 = (x_1+\\varepsilon_1, … x_n+\\varepsilon_n)$, being sure that\n",
    "all entries are feasible\n",
    "- Let $x_1$ be the best response to $x_0$, $x_t$ to $x_{t‐1}$\n",
    "- If for all small enough $\\varepsilon_i$’s converge back to $x$, then \"stable\""
   ]
  },
  {
   "cell_type": "markdown",
   "metadata": {},
   "source": [
    "**Proposition:** Only stable equilibria (B&K) are specialist equilibria such that every non‐specialist has two specialists in his or her neighborhood"
   ]
  },
  {
   "attachments": {
    "image.png": {
     "image/png": "[encoded data removed]"
    }
   },
   "cell_type": "markdown",
   "metadata": {},
   "source": [
    "![image.png](attachment:image.png)"
   ]
  },
  {
   "cell_type": "markdown",
   "metadata": {},
   "source": [
    "#### Stability and Pairwise Stability:\n",
    "- Suppose links are costly\n",
    "- specialists drop links to non\n",
    "- non‐specialized equilibria are only \"stable\" ones…"
   ]
  },
  {
   "cell_type": "markdown",
   "metadata": {},
   "source": [
    "### A Linear Quadratic Model"
   ]
  },
  {
   "cell_type": "markdown",
   "metadata": {},
   "source": [
    "- strategic complements\n",
    "- payoff:$$u_i(x_i,x_{‐i}) = a x_i – \\frac{b}{2} x_i^2 + \\sum_j w_{ij} x_i x_j$$"
   ]
  },
  {
   "cell_type": "markdown",
   "metadata": {},
   "source": [
    "- Best response of $x_i$ to $x_{‐i}$:\n",
    "    - $\\frac{\\partial u_i}{\\partial x_i}(x_i,x_{‐i}) = a - b x_i + \\sum_j w_{ij} x_j = 0$\n",
    "    - $x_i = \\frac{a + \\sum_j w_{ij} x_j}{b}$\n",
    "    - Vectorized notation:\n",
    "        $x = \\alpha + G x$, where $\\alpha = \\left(\\frac{a}{b}, \\ldots, \\frac{a}{b}\\right)$ and $g_{ij} = \\frac{w_{ij}}{b}$\n",
    "    - if $\\alpha \\neq 0$ and $I - G$ is invertible matrix, explicit solution given by $x = (I - G)^{-1}\\alpha$\n",
    "    - if $\\alpha = 0$ then $x = Gx$, so unit eigenvector \n"
   ]
  },
  {
   "cell_type": "markdown",
   "metadata": {},
   "source": [
    "- Main findings:\n",
    "    - Actions are related to network structure:\n",
    "    - higher neighbors’ actions, higher own action\n",
    "    - higher own action, higher neighbors actions\n",
    "    - feedback – for solution need $b$ to be large and/or $w_{ij}$’s to be small"
   ]
  },
  {
   "cell_type": "markdown",
   "metadata": {},
   "source": [
    "- Relation to centrality measures:\n",
    "    - Bonacich centrality: $$B(G) = (I – G )^{‐1} G 1$$\n",
    "    - Then\n",
    "    $$\\begin{aligned}\n",
    "    x &= (I - G)^{-1}\\alpha \\\\ &= (I - G)^{-1}I\\alpha \\\\ &= (I - G)^{-1}(I -G + G)\\alpha\\\\ &=\\left(I + (I-G)^{-1}G\\right)\\alpha\\\\ &= \\left(1 + (I-G)^{-1}G1\\right)\\frac{a}{b} \\\\ &= \\left(1 + B(G)\\right)\\frac{a}{b}\n",
    "    \\end{aligned}$$\n",
    "    - Natural feedback from complementarities, actions relate to the total feedback from various positions\n",
    "    - Centrality: relative number of weighted influences going from one node to another\n",
    "    - Captures complementarities"
   ]
  },
  {
   "cell_type": "markdown",
   "metadata": {},
   "source": [
    "## Repeated Games and Networks"
   ]
  },
  {
   "cell_type": "markdown",
   "metadata": {},
   "source": [
    "### Favors\n",
    "- $v$ value of a favor\n",
    "- $c$ cost of a favor, $v > c > 0$\n",
    "- $\\delta$ discount factor $1 > \\delta > 0$\n",
    "- $p$ probability $i$ needs a favor from $j$ in a period\n",
    "- Favor need arises at random to (at most) one of the two agents\n",
    "- Other agent decides whether to provide favor\n",
    "    - If provided, value $v$ to receiver, $‐c$ to giver\n",
    "    - Otherwise, value 0 to both"
   ]
  },
  {
   "cell_type": "markdown",
   "metadata": {},
   "source": [
    "- Favor exchange between two agents\n",
    "    - expected value of relationship per period\n",
    "    $$p v ‐ p c$$\n",
    "    - value of perpetual relationship\n",
    "    $$(pv - pc)\\left(1 + \\delta + \\delta^2+ \\ldots\\right) = \\frac{p(v-c)}{1-\\delta}$$\n",
    "- Favor exchange between two agents iff:\n",
    "$$ c < \\delta\\frac{p(v-c)}{1-\\delta}$$"
   ]
  },
  {
   "cell_type": "markdown",
   "metadata": {},
   "source": [
    "### Social Capital ‐ Ostracism\n",
    "- Three agents (a ``triad’’): Ostracize agent who does not perform a favor\n",
    "- Then favor exchange only need\n",
    "$$c < 2 \\delta \\frac{p(v-c)}{1-\\delta}$$"
   ]
  },
  {
   "cell_type": "markdown",
   "metadata": {},
   "source": [
    "### Game: Period $t$\n",
    "- At most one agent $i_t$ is called upon to perform a favor for $j_t \\in N_i(g_t )$ ($p$ small)\n",
    "- it keeps or deletes the link\n",
    "- Others can respond: announce which (remaining) links they wish to maintain\n",
    "- Links are retained if mutually agree-resulting network is gt+1"
   ]
  },
  {
   "cell_type": "markdown",
   "metadata": {},
   "source": [
    "### Robustness Against Social Contagion\n",
    "- A network such that the punishment for failing to perform a favor only impacts neighbors of original players lose links\n",
    "- Impact of a deletion/perturbation is local"
   ]
  },
  {
   "cell_type": "markdown",
   "metadata": {},
   "source": [
    "### Time for Demo"
   ]
  },
  {
   "cell_type": "code",
   "execution_count": null,
   "metadata": {},
   "outputs": [],
   "source": [
    "import net_games_repeat\n",
    "from dash import Dash\n",
    "app = Dash(__name__, meta_tags=[{\"name\": \"viewport\", \"content\": \"width=device-width, initial-scale=1\"}])\n",
    "net_games_repeat.create_net_games_repeat_app(app)\n",
    "app.run()"
   ]
  },
  {
   "cell_type": "markdown",
   "metadata": {},
   "source": [
    "### Supported Links\n",
    "- link $ij \\in g$ is supported if there exists $k$ such that $ik \\in g$ and $jk \\in g$\n",
    "- **Theorem:** If no pair of players could sustain favor exchange in isolation and a network is robust, then all of its links are supported."
   ]
  },
  {
   "cell_type": "markdown",
   "metadata": {},
   "source": [
    "### Theory vs Measure:\n",
    "- **Support:** With what frequency do a typical pair of connected nodes, A and B, have a common neighbor?\n",
    "- **Clustering:** With what frequency are a typical node A’s neighbors, say B and C neighbors of each other?"
   ]
  },
  {
   "cell_type": "code",
   "execution_count": null,
   "metadata": {},
   "outputs": [],
   "source": [
    "edge_list = [(0, 1), (1, 2), (2, 0), (2, 3), (3, 4), (2, 4), (3, 5), (3, 6), (5, 6), (5, 7), (5, 8), (7, 8), (6, 9), (6, 10), (9, 10), (10, 11), (10, 12), (11, 12)]\n",
    "grph = nx.from_edgelist(edge_list)\n",
    "nx.draw(grph, with_labels=True)"
   ]
  },
  {
   "cell_type": "code",
   "execution_count": null,
   "metadata": {},
   "outputs": [],
   "source": [
    "def overall_clustering(graph):\n",
    "    triangles = nx.triangles(graph)\n",
    "    degree = nx.degree(graph)\n",
    "    try:\n",
    "        return sum([triangles[k] for k in triangles]) / sum([v * (v - 1) / 2 for k, v in degree])\n",
    "    except:\n",
    "        return 0\n",
    "    \n",
    "def edge_support(graph):\n",
    "    result = {\n",
    "        edge: 1 if set(graph.neighbors(edge[0])).intersection(set(graph.neighbors(edge[1]))) else 0\n",
    "        for edge in grph.edges\n",
    "    }\n",
    "    return result\n",
    "\n",
    "def average_support(graph):\n",
    "    support = edge_support(graph)\n",
    "    return np.mean(list(support.values()))"
   ]
  },
  {
   "cell_type": "code",
   "execution_count": null,
   "metadata": {},
   "outputs": [],
   "source": [
    "print(f\"Average clustering:   {nx.average_clustering(grph)}\")\n",
    "print(f\"Overall clustering:   {overall_clustering(grph)}\")\n",
    "print(f\"Average link support: {average_support(grph)}\")"
   ]
  },
  {
   "cell_type": "markdown",
   "metadata": {},
   "source": []
  }
 ],
 "metadata": {
  "kernelspec": {
   "display_name": "aeem_311",
   "language": "python",
   "name": "python3"
  },
  "language_info": {
   "codemirror_mode": {
    "name": "ipython",
    "version": 3
   },
   "file_extension": ".py",
   "mimetype": "text/x-python",
   "name": "python",
   "nbconvert_exporter": "python",
   "pygments_lexer": "ipython3",
   "version": "3.11.5"
  }
 },
 "nbformat": 4,
 "nbformat_minor": 2
}
