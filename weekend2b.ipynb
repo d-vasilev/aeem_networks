{
 "cells": [
  {
   "cell_type": "code",
   "execution_count": null,
   "metadata": {},
   "outputs": [],
   "source": [
    "import numpy as np\n",
    "import scipy\n",
    "import networkx as nx\n",
    "import plotly.graph_objects as go"
   ]
  },
  {
   "cell_type": "markdown",
   "metadata": {},
   "source": [
    "# Learning and Networks"
   ]
  },
  {
   "cell_type": "markdown",
   "metadata": {},
   "source": [
    "Some Important Questions\n",
    "- Will society adapt to a unique belief in the long run on a given topic?\n",
    "- How fast can/will such a convergence occur?\n",
    "- Will society actually learn?\n",
    "    - Will society use available information to analyze it properly?\n",
    "    - Will the beliefs in the society converge to the truth?\n",
    "- Are some people better at convincing others to share their beliefs?"
   ]
  },
  {
   "cell_type": "markdown",
   "metadata": {},
   "source": [
    "## Bayesian/Observational Learning"
   ]
  },
  {
   "cell_type": "markdown",
   "metadata": {},
   "source": [
    "### Common set-up\n",
    "* Finitely many repeated actions\n",
    "* Infinitely many discrete periods\n",
    "* Agents observing not only their payoffs, but the actions and outcomes for everyone of their neigbours, too"
   ]
  },
  {
   "cell_type": "markdown",
   "metadata": {},
   "source": [
    "### Bala Goyal 98\n",
    "* $n$ players in an undirected component $g$\n",
    "* Choose action A or B each period\n",
    "   - A pays 1 for sure\n",
    "   - B pays 2 with probability $p$ and 0 with probability $1‐p$\n",
    "* Each period get a payoff based on choice\n",
    "* Also observe neighbors’ choices\n",
    "* Maximize discounted stream of payoffs\n",
    "$E \\left[ \\sum_t δ^t \\pi_{it} \\right]$\n",
    "* $p$ is unknown takes on finite set of values\n",
    "* Optimal strategy\n",
    "   - Play A if $p < \\frac{1}{2}$\n",
    "   - Play B if $p > \\frac{1}{2}$"
   ]
  },
  {
   "cell_type": "markdown",
   "metadata": {},
   "source": [
    "### Reinforcement learning approach for optimal behaviour\n",
    "\n",
    "Initialize, for $x \\in (A, B)$:\n",
    "$$Q(x) \\leftarrow 0$$\n",
    "$$N(x)  \\leftarrow 0$$\n",
    "Loop forever:\n",
    "$$X \\leftarrow \\begin{cases}\n",
    "\\argmax_{x\\in(A,B)} Q(x), & \\text{with probability 1 − $\\varepsilon$ (breaking ties randomly)} \\\\\n",
    "\\text{a random action $x\\in(A,B)$}, & \\text{with probability $\\varepsilon$}\n",
    "\\end{cases}$$\n",
    "$$R \\leftarrow outcome(X)$$\n",
    "$$N(X) \\leftarrow N(X) + 1$$\n",
    "$$Q(X) \\leftarrow Q(X) + \\frac{1}{N(X)}\n",
    "\\left[R − Q(X)\\right]$$"
   ]
  },
  {
   "cell_type": "markdown",
   "metadata": {},
   "source": [
    "### Time for demo"
   ]
  },
  {
   "cell_type": "code",
   "execution_count": null,
   "metadata": {},
   "outputs": [],
   "source": [
    "import net_learn_obs\n",
    "from dash import Dash\n",
    "app = Dash(__name__, meta_tags=[{\"name\": \"viewport\", \"content\": \"width=device-width, initial-scale=1\"}])\n",
    "net_learn_obs.create_net_learn_app(app)\n",
    "app.run()"
   ]
  },
  {
   "cell_type": "markdown",
   "metadata": {},
   "source": [
    "### Drawbacks\n",
    "- If $p$ is not exactly $\\frac{1}{2}$, then with probability 1 there is a time such that all agents in a given component play just one action (and all play the same action) from that time onward.\n",
    "- If B is the right action then play the right action if converge to it, but might not\n",
    "- If A is the right action, then must converge to right action"
   ]
  },
  {
   "cell_type": "markdown",
   "metadata": {},
   "source": [
    "### Limitations\n",
    "- Homogeneity of actions and payoffs across players\n",
    "- What if heterogeneity?\n",
    "- Repeated actions over time\n",
    "- Stationarity\n",
    "- Networks are not playing role here!"
   ]
  },
  {
   "cell_type": "markdown",
   "metadata": {},
   "source": [
    "## DeGroot Social Interaction Model\n",
    "- Individuals $\\{1, \\dots, n\\}$\n",
    "- $G$ weighted directed network, stochastic matrix\n",
    "- Start with beliefs, attitude, etc. $b_{i}(0) \\in [0,1]$\n",
    "- can also have these be vectors…\n",
    "- Updating: \n",
    "$$b_{i}(t) = \\sum_{j} G_{ij} b_{j}(t‐1)$$"
   ]
  },
  {
   "cell_type": "code",
   "execution_count": null,
   "metadata": {},
   "outputs": [],
   "source": [
    "trans_matrix = np.array([[1/3, 1/3, 1/3], [1/2, 1/2, 0], [1/2, 0, 1/2]]) \n",
    "trans_matrix"
   ]
  },
  {
   "cell_type": "code",
   "execution_count": null,
   "metadata": {},
   "outputs": [],
   "source": [
    "b = np.array([[0], [1], [0]])\n",
    "b"
   ]
  },
  {
   "cell_type": "code",
   "execution_count": null,
   "metadata": {},
   "outputs": [],
   "source": [
    "trans_matrix.dot(b).transpose().tolist()"
   ]
  },
  {
   "cell_type": "code",
   "execution_count": null,
   "metadata": {},
   "outputs": [],
   "source": [
    "def degroot_sim(trans_matrix, init_vector, n=100):\n",
    "    mtrx = trans_matrix.transpose()\n",
    "    vctr = init_vector.transpose()\n",
    "    results = vctr.tolist()\n",
    "    for x in range(n):\n",
    "        vctr = vctr.dot(mtrx)\n",
    "        results.append(vctr.tolist()[0])\n",
    "\n",
    "    results = np.array(results).transpose().tolist()\n",
    "\n",
    "    data = [\n",
    "        go.Scatter(\n",
    "            x=list(range(n+1)),\n",
    "            y=y,\n",
    "            mode=\"lines\"\n",
    "        )\n",
    "        for y in results\n",
    "    ]\n",
    "    return go.Figure(data=data)"
   ]
  },
  {
   "cell_type": "code",
   "execution_count": null,
   "metadata": {},
   "outputs": [],
   "source": [
    "degroot_sim(trans_matrix, b, n=10)"
   ]
  },
  {
   "cell_type": "code",
   "execution_count": null,
   "metadata": {},
   "outputs": [],
   "source": [
    "trans_matrix = np.array([[1/3, 1/3, 1/3], [1/2, 1/2, 0], [0, 1/4, 3/4]]) \n",
    "trans_matrix"
   ]
  },
  {
   "cell_type": "code",
   "execution_count": null,
   "metadata": {},
   "outputs": [],
   "source": [
    "degroot_sim(trans_matrix, b, n=10)"
   ]
  },
  {
   "cell_type": "markdown",
   "metadata": {},
   "source": [
    "### When is there convergence?"
   ]
  },
  {
   "cell_type": "code",
   "execution_count": null,
   "metadata": {},
   "outputs": [],
   "source": [
    "trans_matrix1 = np.array([[0, 1/2, 1/2], [1, 0, 0], [0, 1, 0]]) \n",
    "trans_matrix1"
   ]
  },
  {
   "cell_type": "code",
   "execution_count": null,
   "metadata": {},
   "outputs": [],
   "source": [
    "degroot_sim(trans_matrix1, b, n=20)"
   ]
  },
  {
   "cell_type": "code",
   "execution_count": null,
   "metadata": {},
   "outputs": [],
   "source": [
    "trans_matrix2 = np.array([[0, 1/2, 1/2], [1, 0, 0], [1, 0, 0]]) \n",
    "trans_matrix2"
   ]
  },
  {
   "cell_type": "code",
   "execution_count": null,
   "metadata": {},
   "outputs": [],
   "source": [
    "degroot_sim(trans_matrix2, b, n=20)"
   ]
  },
  {
   "cell_type": "markdown",
   "metadata": {},
   "source": [
    "- $G$ converges if $\\lim_{t\\rightarrow \\infty} G^t b$ exists for all $b$\n",
    "- $G$ is aperiodic if the greatest common divisor of its cycle lengths is one"
   ]
  },
  {
   "cell_type": "code",
   "execution_count": null,
   "metadata": {},
   "outputs": [],
   "source": [
    "nx.draw(nx.from_numpy_array(trans_matrix1,  create_using=nx.DiGraph))"
   ]
  },
  {
   "cell_type": "code",
   "execution_count": null,
   "metadata": {},
   "outputs": [],
   "source": [
    "nx.draw(nx.from_numpy_array(trans_matrix2,  create_using=nx.DiGraph))"
   ]
  },
  {
   "cell_type": "markdown",
   "metadata": {},
   "source": [
    "- Suppose $G$ is strongly connected.\n",
    "    - $G$ is convergent if and only if it is aperiodic.\n",
    "    - $G$ is convergent if and only if: $\\lim G^t = (1,1,….,1)^Ts$ where $s$ is the unique lhs eigenvector with eigenvalue 1"
   ]
  },
  {
   "cell_type": "markdown",
   "metadata": {},
   "source": [
    "### When is there a consensus?\n",
    "- convergence is sufficient"
   ]
  },
  {
   "cell_type": "code",
   "execution_count": null,
   "metadata": {},
   "outputs": [],
   "source": [
    "res = scipy.linalg.eig(trans_matrix1, left=True)\n",
    "print(f\"eigenvalues = {res[0]}\")\n",
    "print(f\"eingenvectors = {res[1]}\")"
   ]
  },
  {
   "cell_type": "code",
   "execution_count": null,
   "metadata": {},
   "outputs": [],
   "source": [
    "indx = 0\n",
    "s = res[1][:,indx]/res[1][:, indx].sum()\n",
    "print(f\"vector s = {s}\")\n",
    "print(f\"G^t = {np.array([[1], [1], [1]]).dot(s.reshape(1,3))}\")"
   ]
  },
  {
   "cell_type": "markdown",
   "metadata": {},
   "source": [
    "we could validate by diretcly doing the multiplications"
   ]
  },
  {
   "cell_type": "code",
   "execution_count": null,
   "metadata": {},
   "outputs": [],
   "source": [
    "xx = trans_matrix1\n",
    "for _ in range(100):\n",
    "    xx = xx.dot(trans_matrix1)\n",
    "\n",
    "print(xx)\n",
    "print(xx.dot(b))"
   ]
  },
  {
   "cell_type": "markdown",
   "metadata": {},
   "source": [
    "### Who has influence?"
   ]
  },
  {
   "cell_type": "markdown",
   "metadata": {},
   "source": [
    "#### What are Limiting beliefs?\n",
    "- When group reaches a consensus, what is it?\n",
    "- Who are the influential agents in terms of steering the limiting belief?\n",
    "- Must be that the rows of $G^t$ converge to same thing since beliefs converge to same thing for all initial vectors\n",
    "- Consensus converges to (normalized) eigenvector weighted sum of original beliefs.\n",
    "$$\\lim G^t b(0) = (1,1,….,1)^Tsb(0) = (1,1,….,1)^T \\sum s_{i}b_{i}(0)$$"
   ]
  },
  {
   "cell_type": "markdown",
   "metadata": {},
   "source": [
    "#### Who has Influence?\n",
    "- $s_i = \\sum_j G_{ji} s_j$\n",
    "- High influence from being paid attention to by people with high influence.\n",
    "- Related to eigenvector centrality."
   ]
  },
  {
   "cell_type": "code",
   "execution_count": null,
   "metadata": {},
   "outputs": [],
   "source": [
    "print(f\"s = {s}\")\n",
    "print(f\"G = {trans_matrix1}\")\n",
    "print(f\"s.G = {s.dot(trans_matrix1)}\")"
   ]
  },
  {
   "cell_type": "markdown",
   "metadata": {},
   "source": [
    "### When is the influence accurate?\n"
   ]
  },
  {
   "cell_type": "markdown",
   "metadata": {},
   "source": [
    "#### When is Information Aggregation Accurate:\n",
    "- How does this depend on network structure?\n",
    "- How does it depend on influence?\n",
    "- How does it relate to speed of convergence?\n"
   ]
  },
  {
   "cell_type": "markdown",
   "metadata": {},
   "source": [
    "#### Uncertainty Structure\n",
    "- Suppose true state is $\\mu$\n",
    "- Agent $i$ sees $b_i(0) = \\mu + \\varepsilon_i$\n",
    "- $\\varepsilon_i$ has 0 mean and finite variance, bounded below and above,\n",
    "- signal distributions may differ across agents, but are independent conditional on $\\mu$"
   ]
  },
  {
   "cell_type": "markdown",
   "metadata": {},
   "source": [
    "#### Wise Crowds\n",
    "- Consider large societies\n",
    "- If they pooled their information, they would have an accurate estimate of $\\mu$\n",
    "- For what sequences of societies indexed by $n$ does \n",
    "$$P\\left(\\lim_{t\\rightarrow\\infty} | b_{j}^n(t) – \\mu| > \\delta\\right)\\xrightarrow[n\\rightarrow\\infty]{} 0 \\text{ for all } \\delta, j?$$\n",
    "- Let $\\varepsilon_i$'s be independent, zero mean, and each have finite variance (bounded below). Then:\n",
    "$$\\plim_{n\\rightarrow\\infty} \\sum_{i=1}^{n} s_i^n \\varepsilon_i = 0 \\text{ iff } \\max_i s_i^n \\xrightarrow[n\\rightarrow\\infty]{} 0$$\n",
    "- Wise crowds iff max influence vanishes\n",
    "- Recall that\n",
    "$$\\lim_t b_j^n(t) = \\sum_{i=1}^{n} s_i^n b_i^n(0) = \\sum_{i=1}^n s_i^n (\\mu + \\varepsilon_i )= \\mu + \\sum_{i=1}^n s_i^n \\varepsilon_i$$\n",
    "- So: \n",
    "$$\\plim_{n\\rightarrow\\infty} \\left(\\lim_t b_j^n(t)\\right) = μ \\text{ iff } \\plim_{n\\rightarrow\\infty} \\sum s_i^n \\varepsilon_i =0, \\text{ iff } \\max_i s_i^n \\xrightarrow[n\\rightarrow\\infty]{} 0$$\n",
    "\n"
   ]
  },
  {
   "cell_type": "markdown",
   "metadata": {},
   "source": [
    "#### Reciprocal Attention:\n",
    "- Suppose that $G$ is column stochastic (so each agent receives weight one). Then $s=\\left(\\frac{1}{n},\\ldots,\\frac{1}{n}\\right)$ is a unit lhs eigenvector, and so $G$ is wise.\n",
    "- So, reciprocal trust implies wisdom.\n",
    "- But that is a very strong condition…"
   ]
  },
  {
   "cell_type": "markdown",
   "metadata": {},
   "source": [
    "#### Opinion Leaders\n",
    "- $s_i = \\sum_j G_{ji} s_j$\n",
    "- If there is some $i$ with $G_{ji} > a > 0$ for all $j$, then $s_i >a$"
   ]
  },
  {
   "cell_type": "markdown",
   "metadata": {},
   "source": [
    "### Convergence without Consensus"
   ]
  },
  {
   "cell_type": "markdown",
   "metadata": {},
   "source": [
    "#### Example 1"
   ]
  },
  {
   "cell_type": "code",
   "execution_count": null,
   "metadata": {},
   "outputs": [],
   "source": [
    "trans_matrix3 = np.array([\n",
    "    [0, 1, 0, 0, 0, 0],\n",
    "    [0, 0, 1, 0, 0, 0],\n",
    "    [1/3, 0, 0, 1/3, 1/3, 0],\n",
    "    [0, 0, 0, 0, 1, 0],\n",
    "    [0, 0, 0, 0, 0, 1],\n",
    "    [0, 0, 0, 0, 1, 0],\n",
    "])\n",
    "nx.draw(nx.from_numpy_array(trans_matrix3,  create_using=nx.DiGraph))"
   ]
  },
  {
   "cell_type": "code",
   "execution_count": null,
   "metadata": {},
   "outputs": [],
   "source": [
    "b = np.array([[0], [0], [0], [0], [0], [1]])\n",
    "degroot_sim(trans_matrix3, b, n=40)"
   ]
  },
  {
   "cell_type": "markdown",
   "metadata": {},
   "source": [
    "#### Example 2"
   ]
  },
  {
   "cell_type": "code",
   "execution_count": null,
   "metadata": {},
   "outputs": [],
   "source": [
    "trans_matrix4 = np.array([\n",
    "    [1, 0, 0, 0, 0, 0],\n",
    "    [1/4, 1/4, 1, 0, 1/4, 1/4],\n",
    "    [0, 0, 1/2, 1/2, 0, 0],\n",
    "    [0, 0, 0, 0, 1, 0],\n",
    "    [0, 0, 1/4, 0, 3/4, 0],\n",
    "    [0, 0, 0, 2/3, 0, 1/3],\n",
    "])\n",
    "nx.draw(nx.from_numpy_array(trans_matrix4,  create_using=nx.DiGraph))"
   ]
  },
  {
   "cell_type": "code",
   "execution_count": null,
   "metadata": {},
   "outputs": [],
   "source": [
    "b4 = np.array([[0], [0], [0], [0], [1], [0]])\n",
    "degroot_sim(trans_matrix4, b4, n=40)"
   ]
  },
  {
   "cell_type": "markdown",
   "metadata": {},
   "source": [
    "#### Theory"
   ]
  },
  {
   "cell_type": "markdown",
   "metadata": {},
   "source": [
    "- What if our society cannot be described by an irreducible matrix $G$?\n",
    "    - Can we still establish convergence? Yes\n",
    "    - Do we retain consensus? No\n",
    "- If a matrix is reducible there exists more than one communicating class\n",
    "    - This means that for some $j \\in N$ there is an $i \\in N$ such that no directed path leads from $i$ to $j$\n",
    "    - We can now split our network into $k$ communicating classes $B_1, B_2, \\ldots, B_k$\n",
    "- Recall our convergence theorem required that beliefs mixed (didn’t cycle) among everyone\n",
    "- We can still guarantee this behavior within communicating classes if they are closed\n",
    "- Class $B_k$ is closed if $i \\in B_k$ and $T_ij > 0$ implies $j \\in B_k$\n",
    "- We can now hope to apply our previous result to establish consensus within each strongly connected and closed set of nodes\n",
    "    - But can this guarantee convergence for the entire society?\n",
    "    - Proposition (Golub & Jackson (2008)): $G$ is convergent if and only if every set of nodes that is strongly connected and\n",
    "closed is aperiodic"
   ]
  },
  {
   "cell_type": "markdown",
   "metadata": {},
   "source": [
    "- Example 1: Nodes {1, 2, 3}, {4}, and {5, 6} are communicating classes with only {5, 6} being closed\n",
    "- Example 2: \n",
    "    - Closed sets: {1}, {3, 4, 5}, {1, 3, 4, 5}, {3, 4, 5, 6}, {1, 3, 4, 5, 6}, {1, 2, 3, 4, 5, 6}\n",
    "    - Closed and strongly connected: {1} and {3, 4, 5}"
   ]
  },
  {
   "cell_type": "code",
   "execution_count": null,
   "metadata": {},
   "outputs": [],
   "source": []
  }
 ],
 "metadata": {
  "kernelspec": {
   "display_name": "aeem_311",
   "language": "python",
   "name": "python3"
  },
  "language_info": {
   "codemirror_mode": {
    "name": "ipython",
    "version": 3
   },
   "file_extension": ".py",
   "mimetype": "text/x-python",
   "name": "python",
   "nbconvert_exporter": "python",
   "pygments_lexer": "ipython3",
   "version": "3.11.5"
  }
 },
 "nbformat": 4,
 "nbformat_minor": 2
}
