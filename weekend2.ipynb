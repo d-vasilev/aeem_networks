{
 "cells": [
  {
   "cell_type": "code",
   "execution_count": null,
   "metadata": {},
   "outputs": [],
   "source": [
    "import networkx as nx\n",
    "import itertools\n",
    "import numbers\n",
    "import numpy as np\n",
    "import matplotlib.pyplot as plt"
   ]
  },
  {
   "cell_type": "markdown",
   "metadata": {},
   "source": [
    "# Strategic Network Formation"
   ]
  },
  {
   "cell_type": "markdown",
   "metadata": {},
   "source": [
    "#### Economic Game Theoretic Models of Network Formation\n",
    "\n",
    "- Costs and benefits for each agent associated with each network\n",
    "- Agents choose links\n",
    "- Contrast incentives and social efficiency"
   ]
  },
  {
   "cell_type": "markdown",
   "metadata": {},
   "source": [
    "#### Modeling Choices\n",
    "\n",
    "How should we model incentives to form and sever links?\n",
    "- is consensus needed (undirected/directed)?\n",
    "- can they coordinate changes in the network?\n",
    "- is the process dynamic or static?\n",
    "- how sophisticated are agents?\n",
    "- what do they know when making a decision?\n",
    "- do they make errors?\n",
    "- what happens on the network?\n",
    "- can they compensate each other for relationship?\n",
    "- are links ajustable in intensity?"
   ]
  },
  {
   "cell_type": "markdown",
   "metadata": {},
   "source": [
    "#### Some Questions\n",
    "\n",
    "- Which networks are likely to form?\n",
    "- Are some more stable than others to various perturbations?\n",
    "- Are the networks that form efficient?\n",
    "- How inefficient are they if they are not efficient?\n",
    "- Can intervention help improve efficiency?\n",
    "- Can such models provide insight into observed characteristics of networks?"
   ]
  },
  {
   "cell_type": "markdown",
   "metadata": {},
   "source": [
    "## An Economic Analysis: Jackson Wolinsky\n",
    "\n",
    "- $u_i(g)$ ‐ payoff to $i$ if the network is $g$\n",
    "- undirected network formation\n",
    "- $0 \\leq \\delta \\leq 1$ a benefit parameter for i from connection between $i$ and $j$\n",
    "- $0 \\leq c_{ij}$ cost to $i$ of link to $j$\n",
    "- $l(i,j)$ shortest path length between $i$,$j$\n",
    "- $u_i(g)= \\sum_j \\delta^{l(i,j)} ‐ \\sum_{j \\in N_i(g)} c_{ij}$"
   ]
  },
  {
   "cell_type": "markdown",
   "metadata": {},
   "source": [
    "#### Questions\n",
    "\n",
    "- Which networks are best for society?\n",
    "- Which networks are formed by the agents?"
   ]
  },
  {
   "cell_type": "markdown",
   "metadata": {},
   "source": [
    "### Pairwise Stability and Efficiency\n",
    "\n",
    "- What if model as a game where each agent announces who they wish to link to and a link forms if and only if both agents name each other?\n",
    "- Nash equilibrium: no agent can gain from changing his/her action\n"
   ]
  },
  {
   "cell_type": "markdown",
   "metadata": {},
   "source": [
    "### Pairwise Stability\n",
    "- no agent gains from severing a link – relationships must be beneficial to be maintained\n",
    "$$u_i(g) \\geq u_i(g-ij) \\text{ for } i \\text{ and }ij \\in g$$\n",
    "- no two agents both gain from adding a link (at least one strictly) – beneficial relationships are pursued when available\n",
    "$$u_i(g+ij) > u_i(g) \\text{ implies } u_j(g+ij) < u_j(g) \\text{ for } ij \\notin g$$\n",
    "- a weak concept, but often narrows things down"
   ]
  },
  {
   "cell_type": "markdown",
   "metadata": {},
   "source": [
    "### Efficiency\n",
    "\n",
    "- Pareto efficient $g$: there does not exist $g'$ s.t.\n",
    "$$u_i(g') \\geq u_i(g) \\text{ for all }i\\text{, strict for some}$$\n",
    "- Efficient $g$ (Pareto if transfers):\n",
    "$$ g = \\argmax_{g'} \\sum u_i(g')$$"
   ]
  },
  {
   "cell_type": "markdown",
   "metadata": {},
   "source": [
    "### Symmetric Connection Model:\n",
    "\n",
    "- benefit from a friend is $\\delta<1$\n",
    "- benefit from a friend of a friend is $\\delta^2$,...\n",
    "- cost of a link is $c>0$"
   ]
  },
  {
   "cell_type": "markdown",
   "metadata": {},
   "source": [
    "#### Efficient Networks\n",
    "\n",
    "- low cost: $c < \\delta - \\delta^2$ \n",
    "    - complete network is uniquely efficient\n",
    "- medium cost: $\\delta - \\delta^2 < c < \\delta + (n - 2) \\delta^2/2$\n",
    "    - star networks with all agents are uniquely efficient\n",
    "- high cost: $\\delta + (n - 2) \\delta^2/2 < c$\n",
    "    - empty network is uniquely efficient"
   ]
  },
  {
   "cell_type": "markdown",
   "metadata": {},
   "source": [
    "#### Pairwise Stability\n",
    "\n",
    "- low cost: $c< \\delta - \\delta^2$\n",
    "    - complete network is pairwise stable\n",
    "- medium/low cost: $\\delta - \\delta^2 < c < \\delta$\n",
    "    - star network is pairwise stable\n",
    "    - others are also pairwise stable\n",
    "- medium/high cost: $\\delta < c < \\delta +(n‐2)\\delta^2/2$\n",
    "    - star network is not pairwise stable (no loose ends)\n",
    "    - nonempty pairwise stable networks are over‐connected and may include too few agents\n",
    "- high cost: $\\delta +(n‐2)\\delta^2/2 < c$\n",
    "    - empty network is pairwise stable"
   ]
  },
  {
   "cell_type": "markdown",
   "metadata": {},
   "source": [
    "#### Time for Demo"
   ]
  },
  {
   "cell_type": "code",
   "execution_count": null,
   "metadata": {},
   "outputs": [],
   "source": [
    "import net_formation_sym\n",
    "from jupyter_dash import JupyterDash\n",
    "\n",
    "app = JupyterDash(__name__, meta_tags=[{\"name\": \"viewport\", \"content\": \"width=device-width, initial-scale=1\"}])\n",
    "net_formation_sym.create_net_formation_app(app)\n",
    "app.run_server(mode=\"inline\")"
   ]
  },
  {
   "cell_type": "markdown",
   "metadata": {},
   "source": [
    "### Externalities\n",
    "\n",
    "- Positive:\n",
    "$$u_k(g+ij) \\geq u_k(g) \\text{ if }ij \\text{ not in }g\\text{ for every }k\\neq i,j$$\n",
    "- Negative:\n",
    "$$u_k(g+ij) \\leq u_k(g) \\text{ if }ij \\text{ not in }g\\text{ for every }k\\neq i,j$$"
   ]
  },
  {
   "cell_type": "markdown",
   "metadata": {},
   "source": [
    "#### Coauthor model (example for negative externalities)\n",
    "\n",
    "Agents get value from research collaboration\n",
    "- value for each relationship depends on time each puts into it\n",
    "- plus an interaction term, which is product of the times spent\n",
    "$$u_i(g) = \\sum_{j: ij \\in g} \\left(\\frac{1}{d_i} +\\frac{1}{d_j} +\\frac{1}{d_i d_j}\\right)\n",
    "= 1+ \\sum_{j: ij \\in g} \\left(\\frac{1}{d_j} +\\frac{1}{d_i d_j}\\right)$$"
   ]
  },
  {
   "cell_type": "markdown",
   "metadata": {},
   "source": [
    "#### Time for Demo"
   ]
  },
  {
   "cell_type": "code",
   "execution_count": null,
   "metadata": {},
   "outputs": [],
   "source": [
    "\n",
    "\n",
    "\n",
    "\n",
    "\n",
    "\n",
    "\n",
    "\n",
    "\n",
    "\n",
    "\n",
    "\n",
    "\n",
    "\n",
    "\n"
   ]
  },
  {
   "cell_type": "markdown",
   "metadata": {},
   "source": [
    "#### Key take aways\n",
    "\n",
    "- Positive externalities – under‐connected\n",
    "- Negative externalities – over‐connected"
   ]
  },
  {
   "cell_type": "markdown",
   "metadata": {},
   "source": [
    "### Network Formation and Transfers\n",
    "- Stable and Efficient only coincide in special cases\n",
    "- Can transfers help in other cases?\n",
    "- What can we say about when conflict exists?\n",
    "- What can we say about when transfers improve efficiency?\n",
    "- Are transfers in players’ interests?"
   ]
  },
  {
   "cell_type": "markdown",
   "metadata": {},
   "source": [
    "#### What are Transfers ?\n",
    "- Outside intervention, taxing or subsidizing relationships – e.g., goverment support of R&D relationship\n",
    "- Bargaining among the individuals involved in the relationships\n",
    "- Favors exchanged among friends…."
   ]
  },
  {
   "cell_type": "markdown",
   "metadata": {},
   "source": [
    "#### Modeling Transfers\n",
    "- Change utilities from $u_i(g)$ to $u_i(g)+t_i(g)$\n",
    "- E.g., peripheral players pay center of star in connections\n",
    "model to maintain connections"
   ]
  },
  {
   "cell_type": "markdown",
   "metadata": {},
   "source": [
    "#### Egalitarian Transfers\n",
    "\n",
    "- Set $t_i(g) = \\frac{1}{n}\\sum_j u_j(g) - u_i(g)$\n",
    "- Then $u_i(g) + t_i(g) = \\frac{1}{n}\\sum_j u_j(g)$\n",
    "- Now every agent has societal incentives"
   ]
  },
  {
   "cell_type": "markdown",
   "metadata": {},
   "source": [
    "#### Transfers can Fail\n",
    "Put in some basic requirements on transfers:\n",
    "- completely isolated nodes that generate no value\n",
    "get 0\n",
    "- nodes that are completely interchangeable get\n",
    "same transfers\n",
    "\n",
    "Transfers cannot always help"
   ]
  },
  {
   "cell_type": "markdown",
   "metadata": {},
   "source": [
    "### Summary So Far\n",
    "- Efficient networks take some simple forms in a variety of models\n",
    "- Efficient networks and pairwise stable need not coincide\n",
    "- Transfers may help, but not always without violating some basic conditions"
   ]
  },
  {
   "cell_type": "markdown",
   "metadata": {},
   "source": [
    "### Heterogeneity in Strategic Models\n",
    "\n",
    "- Costs depend on geography and characteristics of nodes\n",
    "    - easier to be friends with neighbors\n",
    "    - easier to relate to people with similar background\n",
    "- Benefits depend on characteristics of nodes\n",
    "    - synergies from working together, trading, sharing risk, exchanging favors..\n",
    "    - complementarities: benefits from diversity..."
   ]
  },
  {
   "cell_type": "markdown",
   "metadata": {},
   "source": [
    "#### Can economic models match observables?\n",
    "\n",
    "Small worlds derived from costs/benefits\n",
    "- low costs to local links – high clustering\n",
    "- high value to distant connections – low diameter\n",
    "- high cost of distant connections – few distant links"
   ]
  },
  {
   "cell_type": "markdown",
   "metadata": {},
   "source": [
    "#### Islands connections model\n",
    "\n",
    "- $J$ players live on an island, K islands\n",
    "- cost $c$ of link to player on the island\n",
    "- cost $C>c$ of link to player on another island\n",
    "\n",
    "Results:\n",
    "- High clustering within islands, few links across\n",
    "- small distances"
   ]
  },
  {
   "cell_type": "markdown",
   "metadata": {},
   "source": [
    "### SWOT of an economic approach"
   ]
  },
  {
   "cell_type": "markdown",
   "metadata": {},
   "source": [
    "#### Strength\n",
    "- Payoffs allow for a welfare analysis\n",
    "    - Identify tradeoffs – incentives versus efficiency\n",
    "- Tie the nature of externalities to network formation…\n",
    "- Put network structures in context\n",
    "- Account for and explain some observables"
   ]
  },
  {
   "cell_type": "markdown",
   "metadata": {},
   "source": [
    "#### Challenges\n",
    "- Stark (overly regular) network structures emerge\n",
    "    - need some heterogeneity\n",
    "    - simulations help in fitting\n",
    "- over‐emphasize choice versus chance for some (especially large) applications??\n",
    "- How to identify payoff structure in applications?\n",
    "    - relating network structure and outcomes, payoffs"
   ]
  },
  {
   "cell_type": "markdown",
   "metadata": {},
   "source": [
    "#### Models that marry strategic with random are needed\n",
    "- Weaknesses of Random are Strengths of\n",
    "Economic approach, and vice versa.\n",
    "- Mixed models\n",
    "    - allow for welfare/efficiency analysis\n",
    "    - take model to data and fit observed networks\n",
    "    - do so across applications"
   ]
  },
  {
   "cell_type": "markdown",
   "metadata": {},
   "source": [
    "## Refining pairwise stability\n",
    "\n",
    "- Beyond Pairwise Stability ‐ Allowing other deviations\n",
    "    - multiple links by individuals\n",
    "    - coordinated deviations\n",
    "- Existence questions\n",
    "- Dynamics\n",
    "- Stochastic Stability\n",
    "- Forward looking behavior\n",
    "- Directed Networks"
   ]
  },
  {
   "cell_type": "markdown",
   "metadata": {},
   "source": [
    "### Nash equilibrium\n",
    "\n",
    "- Players simultaneously announce\n",
    "their preferred set of neighbors $S_i$\n",
    "- $g(S)=\\{ ij : j \\in S_i \\text{ and } i \\in S_j \\}$\n",
    "- Nash stable, $u_i(g(S)) \\geq u_i(g(S'_i,S_{‐i})) \\text{ for all }S'_i$\n",
    "- So, $g$ is Nash stable if and only if no player wants to delete some set of his or her links"
   ]
  },
  {
   "cell_type": "markdown",
   "metadata": {},
   "source": [
    "## Dynamic Strategic Network Formation"
   ]
  },
  {
   "cell_type": "markdown",
   "metadata": {},
   "source": [
    "### Dynamic Strategic Models\n",
    "- Explicitly model dynamics and incentives\n",
    "    - Realism(?)\n",
    "    - Refine static stable models\n",
    "    - Incorporate forward looking nature\n",
    "- Very different approaches:\n",
    "    - Myopic and error prone\n",
    "    - Fully forward looking and calculating"
   ]
  },
  {
   "cell_type": "markdown",
   "metadata": {},
   "source": [
    "### A Dynamic Process\n",
    "- Natural dynamics: link is picked at random\n",
    "    -  added if it benefits both players (at least one\n",
    "strictly)\n",
    "    - deleted if it benefits either to delete it\n",
    "- Will find pairwise stable networks (if they exist)\n",
    "- Even if efficient networks are pairwise stable, may\n",
    "have low chance of reaching them...."
   ]
  },
  {
   "cell_type": "markdown",
   "metadata": {},
   "source": [
    "### Drawback\n",
    "Consider connections model where\n",
    "$\\delta-\\delta^2 <c< \\delta$, so that a star is efficient and\n",
    "pairwise stable. As $n$ grows, the probability that\n",
    "the above process stops at a star goes to 0."
   ]
  },
  {
   "cell_type": "markdown",
   "metadata": {},
   "source": [
    "## Evolution and Stochastics"
   ]
  },
  {
   "cell_type": "markdown",
   "metadata": {},
   "source": [
    "### Improving path:\n",
    "- Sequence of adjacent networks:\n",
    "    - Link is added if it benefits both agents, at least one strictly\n",
    "    - Link is deleted if either agent benefits from its deletion"
   ]
  },
  {
   "cell_type": "markdown",
   "metadata": {},
   "source": [
    "### Stochastic Stability\n",
    "- Add trembles/errors to improving paths:\n",
    "-  Start at some network and with equal probability on all links\n",
    "choose a link:\n",
    "    - Add that link if it is not present and both agents prefer to add it (at least one strictly)\n",
    "    - delete that link if it is present and one of the two agents\n",
    "prefers to delete it.\n",
    "    - Reverse the above decision with probability ε>0\n",
    "- Finite state, irreducible, aperiodic\n",
    "Markov chain"
   ]
  },
  {
   "cell_type": "markdown",
   "metadata": {},
   "source": [
    "### Benefit\n",
    "More errors to leave basin of attraction of the\n",
    "complete network than to leave the basin of\n",
    "attraction of empty network"
   ]
  },
  {
   "cell_type": "markdown",
   "metadata": {},
   "source": [
    "## Directed Networks\n",
    "- Formation game easy:\n",
    "- Players simultaneously announce their preferred set of neighbors $S_i$\n",
    "- $g(S)= \\{ ij : j \\in S_i\\}$ keeping track of ordered pairs\n",
    "- Nash equilibrium"
   ]
  },
  {
   "cell_type": "markdown",
   "metadata": {},
   "source": [
    "### Flow of Payoffs?\n",
    "- One way flow – get information but not vice versa\n",
    "- Two way flow – one player bears the cost, but both benefit from the connection (link on internet, phone\n",
    "call??)"
   ]
  },
  {
   "cell_type": "markdown",
   "metadata": {},
   "source": [
    "### Two Way Flow\n",
    "#### Efficiency \n",
    "\n",
    "As in the undirected connections model, except $c/2$ and link in either direction (but not both)\n",
    "- low cost: $c/2 < \\delta-\\delta^2$\n",
    "    - complete networks\n",
    "- medium cost: $\\delta-\\delta^2 < c/2 < \\delta+(n-2)\\delta^2/2$\n",
    "    - star networks\n",
    "- high cost: $\\delta+(n-2)\\delta^2/2 < c/2$\n",
    "    - empty network"
   ]
  },
  {
   "cell_type": "markdown",
   "metadata": {},
   "source": [
    "#### Nash Stable:\n",
    "\n",
    "- low cost: $c< \\delta-\\delta^2$\n",
    "    - two‐way complete networks are Nash stable\n",
    "- medium/low cost: $\\delta-\\delta^2 < c < \\delta$\n",
    "    - all star networks are Nash stable, plus others\n",
    "- medium/high cost: $\\delta < c < \\delta+(n-2)\\delta^2/2$\n",
    "    - peripherally sponsored star networks are Nash stable (no other stars, but sometimes other networks)\n",
    "- efficient and stable can be empty:\n",
    "    - $\\delta - \\delta^2 < c < 2(\\delta - \\delta^2)$ complete is efficient, not\n",
    "equilibrium"
   ]
  },
  {
   "cell_type": "markdown",
   "metadata": {},
   "source": [
    "### One Way Flow\n",
    "\n",
    "- Keep track of directed flows, and\n",
    "in links are not (always) useful\n",
    "- An Example\n",
    "$$u_i(g) = R_i(g) – d_i^{out}(g)c$$\n",
    " where $R_i(g)$ is the number of players reached by directed paths from $i$"
   ]
  },
  {
   "cell_type": "markdown",
   "metadata": {},
   "source": [
    "#### Efficient Networks\n",
    "- n‐player ``wheels’’ if $c< n-1$, empty otherwise"
   ]
  },
  {
   "cell_type": "markdown",
   "metadata": {},
   "source": [
    "#### Stable Networks\n",
    "- If $c<1$ then n‐player wheels are the only strictly Nash stable network\n",
    "- If $1<c<n-1$ n‐player wheels and empty networks are the only strictly Nash stable networks"
   ]
  },
  {
   "cell_type": "markdown",
   "metadata": {},
   "source": [
    "# Diffusion in Social and Economic Networks "
   ]
  },
  {
   "cell_type": "markdown",
   "metadata": {},
   "source": [
    "## Bass Model\n",
    "- A benchmark model with no explicit social\n",
    "structure\n",
    "- Two actions/states/behaviors 0 and 1\n",
    "- $F(t)$ fraction of the population who have adopted action 1 at time $t$\n",
    "- $p$ rate of spontaneous innovation/adoption\n",
    "- $q$ rate of imitation of adoption\n",
    "- dynamic defined by\n",
    "$$\\frac{dF}{dt}(t) = (p + q F(t))(1-F(t))$$\n",
    "- solution is given by\n",
    "$$F(t) = \\frac{1-e^{-(p+q)t}}{1+qe^{-(p+q)t}/p}$$\n",
    "- Gives S‐shape (if $q>p$) and tends to 1 in the limit\n",
    "- Initially only $p$ matters, then $q$ takes over\n",
    "- Eventually change slows as F(t) approaches 1"
   ]
  },
  {
   "cell_type": "code",
   "execution_count": null,
   "metadata": {},
   "outputs": [],
   "source": [
    "def s_shape_curve(p, q, t):\n",
    "    e = np.exp(-(p + q) * t)\n",
    "    return (1 - e) / ( 1 + q / p * e )"
   ]
  },
  {
   "cell_type": "code",
   "execution_count": null,
   "metadata": {},
   "outputs": [],
   "source": [
    "t = np.linspace(0, 30, num=1000)\n",
    "f = s_shape_curve(0.01, 0.38, t)\n",
    "plt.plot(t, f, linewidth=2.0)"
   ]
  },
  {
   "cell_type": "markdown",
   "metadata": {},
   "source": [
    "## Random Networks and Diffusion\n",
    "\n",
    "- Idea, disease, computer virus spreads via connections in the network\n",
    "- Nodes are linked if one would \"infect\" the other\n",
    "- Will an infection take hold?\n",
    "- How many nodes/people will it reach?"
   ]
  },
  {
   "cell_type": "markdown",
   "metadata": {},
   "source": [
    "### Questions:\n",
    "- When do we get diffusion?\n",
    "- What is the extent of diffusion?\n",
    "- How does it depend on the particulars of the process as well as the network?\n",
    "- Who is likely to be infected earliest?"
   ]
  },
  {
   "cell_type": "markdown",
   "metadata": {},
   "source": [
    "### Component Structure\n",
    "- Reach of contagion is determined by the component structure\n",
    "- Some players or nodes are immune, Some links fail to transmit…\n",
    "- What do components look like of those who are susceptible and given links that work"
   ]
  },
  {
   "cell_type": "markdown",
   "metadata": {},
   "source": [
    "### Extent of Diffusion\n",
    "- Get nontrivial diffusion if someone in the giant component is infected/adopts\n",
    "- Size of the giant component determines likelihood of diffusion and its extent\n",
    "- Random network models allow for giant component calculations\n",
    "- How big is the giant component when there is one?\n",
    "    - Size of the giant component when $1/n< p < \\log(n)/n$"
   ]
  },
  {
   "cell_type": "markdown",
   "metadata": {},
   "source": [
    "### Calculating the Size of the Giant Component\n",
    "\n",
    "- $q$ is fraction of nodes in largest component\n",
    "- look at any node: chance it is in the giant component is $q$\n",
    "- chance that this node is outside of the giant component is the chance that all of its neighbors are outside of the giant component\n",
    "- Probability that a node is outside of the giant component = $1 - q$\n",
    "- probability that all of its neighbors are outside = $(1-q)^d$ where $d$ is the node’s degree\n",
    "- So, probability $1-q$ that a node is outside of the giant component is\n",
    "$$1-q = \\sum_{d} (1-q)^d P(d)$$\n",
    "- Where $P(d)$ is the chance that the node has $d$ neighbors\n",
    "$$P(d) = [ (n‐1)^d / d! ] p^d e^{-(n-1)p}$$\n",
    "- So\n",
    "$$1-q = e^{‐(n‐1)p}\\sum_{d}[(1-q) (n-1)p]^d / d!\n",
    "= e^{‐(n‐1)p} e^{(n‐1)p(1‐q)}\n",
    "= e^{‐q(n‐1)p}$$\n",
    "- Or\n",
    "$$ -\\log(1-q) / q = (n-1) p = E[d]$$"
   ]
  },
  {
   "cell_type": "markdown",
   "metadata": {},
   "source": [
    "### Who is infected?\n",
    "- Probability of being in the giant component:\n",
    "- $1‐(1‐q)^d$ increasing in $d$\n",
    "- More connected, more likely to be infected (more likely to be infected at any point in time...)"
   ]
  },
  {
   "cell_type": "markdown",
   "metadata": {},
   "source": [
    "### Extensions\n",
    "- Immunity: delete a fraction of nodes and study the giant component on remaining nodes\n",
    "- Probabilistic infection\n",
    "    - Random infection: have some links fail, just lower p\n"
   ]
  },
  {
   "cell_type": "markdown",
   "metadata": {},
   "source": [
    "### Contagion with Immunity and Link Failure\n",
    "- Some node is initially exposed to infection\n",
    "- $\\pi$ of the nodes are immune naturally\n",
    "- only some links result in contagion – fraction $f$\n",
    "- What is the extent of the infection?"
   ]
  },
  {
   "cell_type": "markdown",
   "metadata": {},
   "source": [
    "### Homework\n",
    "Write a python code which:\n",
    "- Consider a random network on $n$ nodes\n",
    "- Delete fraction $\\pi$ of the nodes\n",
    "- Delete fraction $1-f$ of the links\n",
    "- If starts at a node in giant component of the remaining network, then the giant component of that network is the extent\n",
    "of the infection; otherwise negligible\n",
    "- Let q be the fraction of nodes of the remaining network in its giant component. Bootstrap its estimate on 100 simulations\n",
    "- Compare $–\\log(1-q)/q$ vs $(n-1)p(1-\\pi)f$"
   ]
  },
  {
   "cell_type": "markdown",
   "metadata": {},
   "source": [
    "## SIS Model\n",
    "- An extensively studied model in epidemiology\n",
    "- Allows nodes to change behaviors back and forth over time\n",
    "- Model of catching some recurring diseases, who to vote for, etc.\n",
    "- Nodes are infected or susceptible\n",
    "-  Probability that get infected is proportional to number of infected neighbors with rate $v>0$, plus spontaneous $\\varepsilon$\n",
    "- get well randomly in any period at rate $\\delta>0$\n",
    "- Let $\\rho$ be the percent infected\n",
    "- Start with benchmark where all players mix with even probabilities\n",
    "- Randomly meet an individual each period\n",
    "- Large Markov chain\n",
    "- Steady state mean‐field: $\\frac{d\\rho}{dt} = 0$"
   ]
  },
  {
   "cell_type": "markdown",
   "metadata": {},
   "source": [
    "### Mean‐Field calculation\n",
    "- dynamics\n",
    "$$\\frac{d\\rho}{dt} = (1‐\\rho)(v\\rho+\\varepsilon) – \\rho\\delta = 0$$\n",
    "- steady state solution\n",
    "$$ρ = [ (v-\\delta-\\varepsilon)+ ((v-\\delta-\\varepsilon)^2 +4 \\varepsilon v)^\\frac{1}{2} ] / 2v$$"
   ]
  },
  {
   "cell_type": "markdown",
   "metadata": {},
   "source": [
    "### Mean‐Field drop $\\varepsilon$\n",
    "\n",
    "- dynamics\n",
    "$$\\frac{d\\rho}{dt} = (1-\\rho)v\\rho – \\rho\\delta=0$$\n",
    "- two solutions\n",
    "$$\\rho = 1 – \\delta/v \\text{ (if >0)}$$\n",
    "$$ρ = 0$$\n",
    "- If $\\delta > v$ then recover faster than get sick, no infection stays\n",
    "- Otherwise, infection stays at some level, for low recovery rates can lead to large infections"
   ]
  },
  {
   "cell_type": "markdown",
   "metadata": {},
   "source": [
    "### Where’s the network?\n",
    "- so far uniformly random interaction\n",
    "- missing heterogeneity in degree\n",
    "- missing local patterns\n",
    "- we can at least address the first concern..."
   ]
  },
  {
   "cell_type": "markdown",
   "metadata": {},
   "source": [
    "### Explore Degree Distribution Influence\n",
    "\n",
    "- random matching with $d_i$ matches for node $i$\n",
    "- $\\rho(d)$ fraction of nodes of degree $d$ infected\n",
    "- $\\theta$ fraction of randomly chosen neighbors infected"
   ]
  },
  {
   "cell_type": "markdown",
   "metadata": {},
   "source": [
    "### Chance that meet an infected node\n",
    "- $P(d)$ fraction of nodes that have $d$ meetings\n",
    "- More likely to meet someone who has high $d$\n",
    "- likelihood of meeting node of degree $d$ is\n",
    "$$P(d) d /E[d]$$\n",
    "- So likelihood of meeting infected node is:\n",
    "$$\\theta = \\sum_d \\rho(d) P(d) d / E[d]$$\n",
    "- Steady state: for each $d$\n",
    "$$0 = \\frac{d\\rho}{dt}(d) = ( 1- \\rho(d) )v\\theta d - \\rho(d) \\delta$$\n",
    "$$\\rho(d) = \\lambda\\theta d / (\\lambda\\theta d + 1) \\text{ where }\\lambda= v/\\delta$$\n",
    "- Steady state infection rate of people you meet is the solution to\n",
    "$$\\theta = \\sum_d \\rho(d) P(d) d / E[d]\n",
    "= \\sum_d P(d) \\lambda \\theta d^2 /[ (\\lambda \\theta d + 1) E[d]]$$\n",
    "- What can we say about how this depends on the \"network structure\"? How does infection rate of neighbors θ depend on\n",
    "$P(d)$, $E(d)$?"
   ]
  },
  {
   "cell_type": "markdown",
   "metadata": {},
   "source": [
    "### Properties of H\n",
    "$$H(\\theta) = \\sum_d P(d) \\lambda \\theta d^2 /[ (\\lambda \\theta d + 1) E[d]]$$\n",
    "\n",
    "- H is increasing\n",
    "$$H'(\\theta) = \\sum_{d} P(d) \\lambda d^2 /[ (\\lambda \\theta d + 1)^2 E[d]] > 0$$\n",
    "- H is strictly Concave\n",
    "$$H''(\\theta) = ‐ 2 \\sum_{d} P(d) \\lambda^2 d^3/[ (\\lambda\\theta d + 1)^3 E[d]] < 0$$\n",
    "- Steady state exist only iff $H'(0)>1$, i.e\n",
    "$$H'(0) = \\sum_{d} P(d) \\lambda d^2 / E[d] = \\lambda E[d^2]/E[d] > 1$$\n",
    "$$\\lambda > E[d]/E[d^2]$$\n",
    "- So need infection/recovery rate to be high enough relative to average degree divided by second moment (roughly variance)"
   ]
  },
  {
   "cell_type": "markdown",
   "metadata": {},
   "source": [
    "### Conditions for Steady State\n",
    "- Iff $\\lambda > E[d]/E[d^2]$ have a nonzero steady state\n",
    "- In a regular network, need $λ > 1/E[d]$\n",
    "- In a E‐R network, need $λ > 1/(1+E[d])$\n",
    "- In a power‐law network, $E[d^2]$ diverges –\n",
    "always have a nonzero steady state"
   ]
  },
  {
   "cell_type": "markdown",
   "metadata": {},
   "source": [
    "### Ideas:\n",
    "- High degree nodes are more prone to infection\n",
    "- Serve as conduits\n",
    "- Higher variance, more such nodes to enable infection"
   ]
  },
  {
   "cell_type": "markdown",
   "metadata": {},
   "source": [
    "## Fitting a Diffusion Model to Data\n",
    "- Map network structure via surveys, observe behavior\n",
    "- Model diffusion and fit the model from observed networks and behaviors\n",
    "- Know the set of initially informed nodes\n",
    "- Informed nodes (repeatedly) pass information randomly to their neighbors over discrete times\n",
    "- Once informed (just once), nodes choose to participate depending on their characteristics and their neighbors’ choices"
   ]
  },
  {
   "cell_type": "markdown",
   "metadata": {},
   "source": [
    "### Questions\n",
    "- What determines behavior:\n",
    "    - Pure access to information (no strategic effects)?\n",
    "    - Complementarities (strategic affects)?\n",
    "- Are non‐participants important in diffusion?\n",
    "    - Model information passing by participants (usual contagion)\n",
    "    - Information passing by non‐participants too\n",
    "- Estimate structural models of diffusion and behavior"
   ]
  }
 ],
 "metadata": {
  "kernelspec": {
   "display_name": "Python 3.9.13 ('aeem_39')",
   "language": "python",
   "name": "python3"
  },
  "language_info": {
   "codemirror_mode": {
    "name": "ipython",
    "version": 3
   },
   "file_extension": ".py",
   "mimetype": "text/x-python",
   "name": "python",
   "nbconvert_exporter": "python",
   "pygments_lexer": "ipython3",
   "version": "3.9.13"
  },
  "orig_nbformat": 4,
  "vscode": {
   "interpreter": {
    "hash": "788a9b24fa637eab57b45bed07a8fcb8efe0d1402f1c81c73e8ad2f54fe25e1b"
   }
  }
 },
 "nbformat": 4,
 "nbformat_minor": 2
}
